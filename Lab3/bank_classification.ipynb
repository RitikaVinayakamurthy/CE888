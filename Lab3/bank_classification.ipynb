{
  "nbformat": 4,
  "nbformat_minor": 0,
  "metadata": {
    "colab": {
      "name": "bank_classification.ipynb",
      "provenance": [],
      "collapsed_sections": [],
      "authorship_tag": "ABX9TyO+gvvcoup23d2lrb2pRZl1",
      "include_colab_link": true
    },
    "kernelspec": {
      "name": "python3",
      "display_name": "Python 3"
    }
  },
  "cells": [
    {
      "cell_type": "markdown",
      "metadata": {
        "id": "view-in-github",
        "colab_type": "text"
      },
      "source": [
        "<a href=\"https://colab.research.google.com/github/RitikaVinayakamurthy/CE888/blob/main/Lab3/bank_classification.ipynb\" target=\"_parent\"><img src=\"https://colab.research.google.com/assets/colab-badge.svg\" alt=\"Open In Colab\"/></a>"
      ]
    },
    {
      "cell_type": "code",
      "metadata": {
        "id": "RXLu5FgnhqmJ"
      },
      "source": [
        "#Loading the Libraries\r\n",
        "%matplotlib inline\r\n",
        "import matplotlib\r\n",
        "import numpy as np\r\n",
        "import matplotlib.pyplot as plt\r\n",
        "import pandas as pd\r\n",
        "import seaborn as sns\r\n",
        "import itertools\r\n",
        "\r\n",
        "from sklearn.tree import DecisionTreeRegressor\r\n",
        "from sklearn.ensemble import RandomForestClassifier, ExtraTreesClassifier\r\n",
        "from sklearn.model_selection import cross_val_score,cross_val_predict\r\n",
        "from sklearn.metrics import mean_squared_error as mse\r\n",
        "from sklearn.metrics import mean_absolute_error as mae\r\n",
        "from sklearn.metrics import accuracy_score as acc\r\n",
        "from sklearn.metrics import make_scorer, confusion_matrix\r\n",
        "from sklearn.dummy import DummyRegressor, DummyClassifier\r\n",
        "from sklearn.preprocessing import LabelEncoder\r\n",
        "\r\n"
      ],
      "execution_count": 48,
      "outputs": []
    },
    {
      "cell_type": "code",
      "metadata": {
        "id": "BVfQlyUuhvKC"
      },
      "source": [
        "#Loading the dataset\r\n",
        "df = pd.read_csv(\"https://raw.githubusercontent.com/albanda/CE888/master/lab3/bank-additional-full.csv\", delimiter = \";\")"
      ],
      "execution_count": 49,
      "outputs": []
    },
    {
      "cell_type": "code",
      "metadata": {
        "colab": {
          "base_uri": "https://localhost:8080/",
          "height": 224
        },
        "id": "MlR5m_SXmoOH",
        "outputId": "9db6d535-5aed-4055-ec7c-219b3638e2e1"
      },
      "source": [
        "df.head()"
      ],
      "execution_count": 50,
      "outputs": [
        {
          "output_type": "execute_result",
          "data": {
            "text/html": [
              "<div>\n",
              "<style scoped>\n",
              "    .dataframe tbody tr th:only-of-type {\n",
              "        vertical-align: middle;\n",
              "    }\n",
              "\n",
              "    .dataframe tbody tr th {\n",
              "        vertical-align: top;\n",
              "    }\n",
              "\n",
              "    .dataframe thead th {\n",
              "        text-align: right;\n",
              "    }\n",
              "</style>\n",
              "<table border=\"1\" class=\"dataframe\">\n",
              "  <thead>\n",
              "    <tr style=\"text-align: right;\">\n",
              "      <th></th>\n",
              "      <th>age</th>\n",
              "      <th>job</th>\n",
              "      <th>marital</th>\n",
              "      <th>education</th>\n",
              "      <th>default</th>\n",
              "      <th>housing</th>\n",
              "      <th>loan</th>\n",
              "      <th>contact</th>\n",
              "      <th>month</th>\n",
              "      <th>day_of_week</th>\n",
              "      <th>duration</th>\n",
              "      <th>campaign</th>\n",
              "      <th>pdays</th>\n",
              "      <th>previous</th>\n",
              "      <th>poutcome</th>\n",
              "      <th>emp.var.rate</th>\n",
              "      <th>cons.price.idx</th>\n",
              "      <th>cons.conf.idx</th>\n",
              "      <th>euribor3m</th>\n",
              "      <th>nr.employed</th>\n",
              "      <th>y</th>\n",
              "    </tr>\n",
              "  </thead>\n",
              "  <tbody>\n",
              "    <tr>\n",
              "      <th>0</th>\n",
              "      <td>56</td>\n",
              "      <td>housemaid</td>\n",
              "      <td>married</td>\n",
              "      <td>basic.4y</td>\n",
              "      <td>no</td>\n",
              "      <td>no</td>\n",
              "      <td>no</td>\n",
              "      <td>telephone</td>\n",
              "      <td>may</td>\n",
              "      <td>mon</td>\n",
              "      <td>261</td>\n",
              "      <td>1</td>\n",
              "      <td>999</td>\n",
              "      <td>0</td>\n",
              "      <td>nonexistent</td>\n",
              "      <td>1.1</td>\n",
              "      <td>93.994</td>\n",
              "      <td>-36.4</td>\n",
              "      <td>4.857</td>\n",
              "      <td>5191.0</td>\n",
              "      <td>no</td>\n",
              "    </tr>\n",
              "    <tr>\n",
              "      <th>1</th>\n",
              "      <td>57</td>\n",
              "      <td>services</td>\n",
              "      <td>married</td>\n",
              "      <td>high.school</td>\n",
              "      <td>unknown</td>\n",
              "      <td>no</td>\n",
              "      <td>no</td>\n",
              "      <td>telephone</td>\n",
              "      <td>may</td>\n",
              "      <td>mon</td>\n",
              "      <td>149</td>\n",
              "      <td>1</td>\n",
              "      <td>999</td>\n",
              "      <td>0</td>\n",
              "      <td>nonexistent</td>\n",
              "      <td>1.1</td>\n",
              "      <td>93.994</td>\n",
              "      <td>-36.4</td>\n",
              "      <td>4.857</td>\n",
              "      <td>5191.0</td>\n",
              "      <td>no</td>\n",
              "    </tr>\n",
              "    <tr>\n",
              "      <th>2</th>\n",
              "      <td>37</td>\n",
              "      <td>services</td>\n",
              "      <td>married</td>\n",
              "      <td>high.school</td>\n",
              "      <td>no</td>\n",
              "      <td>yes</td>\n",
              "      <td>no</td>\n",
              "      <td>telephone</td>\n",
              "      <td>may</td>\n",
              "      <td>mon</td>\n",
              "      <td>226</td>\n",
              "      <td>1</td>\n",
              "      <td>999</td>\n",
              "      <td>0</td>\n",
              "      <td>nonexistent</td>\n",
              "      <td>1.1</td>\n",
              "      <td>93.994</td>\n",
              "      <td>-36.4</td>\n",
              "      <td>4.857</td>\n",
              "      <td>5191.0</td>\n",
              "      <td>no</td>\n",
              "    </tr>\n",
              "    <tr>\n",
              "      <th>3</th>\n",
              "      <td>40</td>\n",
              "      <td>admin.</td>\n",
              "      <td>married</td>\n",
              "      <td>basic.6y</td>\n",
              "      <td>no</td>\n",
              "      <td>no</td>\n",
              "      <td>no</td>\n",
              "      <td>telephone</td>\n",
              "      <td>may</td>\n",
              "      <td>mon</td>\n",
              "      <td>151</td>\n",
              "      <td>1</td>\n",
              "      <td>999</td>\n",
              "      <td>0</td>\n",
              "      <td>nonexistent</td>\n",
              "      <td>1.1</td>\n",
              "      <td>93.994</td>\n",
              "      <td>-36.4</td>\n",
              "      <td>4.857</td>\n",
              "      <td>5191.0</td>\n",
              "      <td>no</td>\n",
              "    </tr>\n",
              "    <tr>\n",
              "      <th>4</th>\n",
              "      <td>56</td>\n",
              "      <td>services</td>\n",
              "      <td>married</td>\n",
              "      <td>high.school</td>\n",
              "      <td>no</td>\n",
              "      <td>no</td>\n",
              "      <td>yes</td>\n",
              "      <td>telephone</td>\n",
              "      <td>may</td>\n",
              "      <td>mon</td>\n",
              "      <td>307</td>\n",
              "      <td>1</td>\n",
              "      <td>999</td>\n",
              "      <td>0</td>\n",
              "      <td>nonexistent</td>\n",
              "      <td>1.1</td>\n",
              "      <td>93.994</td>\n",
              "      <td>-36.4</td>\n",
              "      <td>4.857</td>\n",
              "      <td>5191.0</td>\n",
              "      <td>no</td>\n",
              "    </tr>\n",
              "  </tbody>\n",
              "</table>\n",
              "</div>"
            ],
            "text/plain": [
              "   age        job  marital  ... euribor3m nr.employed   y\n",
              "0   56  housemaid  married  ...     4.857      5191.0  no\n",
              "1   57   services  married  ...     4.857      5191.0  no\n",
              "2   37   services  married  ...     4.857      5191.0  no\n",
              "3   40     admin.  married  ...     4.857      5191.0  no\n",
              "4   56   services  married  ...     4.857      5191.0  no\n",
              "\n",
              "[5 rows x 21 columns]"
            ]
          },
          "metadata": {
            "tags": []
          },
          "execution_count": 50
        }
      ]
    },
    {
      "cell_type": "code",
      "metadata": {
        "colab": {
          "base_uri": "https://localhost:8080/"
        },
        "id": "hBicYfz7n91G",
        "outputId": "0d39eaef-f4d2-4b89-b09b-99a8a7394ad6"
      },
      "source": [
        "df.dtypes"
      ],
      "execution_count": 51,
      "outputs": [
        {
          "output_type": "execute_result",
          "data": {
            "text/plain": [
              "age                 int64\n",
              "job                object\n",
              "marital            object\n",
              "education          object\n",
              "default            object\n",
              "housing            object\n",
              "loan               object\n",
              "contact            object\n",
              "month              object\n",
              "day_of_week        object\n",
              "duration            int64\n",
              "campaign            int64\n",
              "pdays               int64\n",
              "previous            int64\n",
              "poutcome           object\n",
              "emp.var.rate      float64\n",
              "cons.price.idx    float64\n",
              "cons.conf.idx     float64\n",
              "euribor3m         float64\n",
              "nr.employed       float64\n",
              "y                  object\n",
              "dtype: object"
            ]
          },
          "metadata": {
            "tags": []
          },
          "execution_count": 51
        }
      ]
    },
    {
      "cell_type": "code",
      "metadata": {
        "id": "_o1YrlFSnEQh"
      },
      "source": [
        "# converting label into numbers\r\n",
        "df[[\"y\"]] = df[[\"y\"]].apply(LabelEncoder().fit_transform)"
      ],
      "execution_count": 52,
      "outputs": []
    },
    {
      "cell_type": "code",
      "metadata": {
        "colab": {
          "base_uri": "https://localhost:8080/"
        },
        "id": "3rGkNI1TPnbM",
        "outputId": "1772b856-5210-4ef5-9893-3b49fc734604"
      },
      "source": [
        "#Creating dummies to convert the categorical columns to numerical columns\r\n",
        "df_dummies = pd.get_dummies(df)\r\n",
        "print(df_dummies)\r\n",
        "\r\n"
      ],
      "execution_count": 53,
      "outputs": [
        {
          "output_type": "stream",
          "text": [
            "       age  duration  ...  poutcome_nonexistent  poutcome_success\n",
            "0       56       261  ...                     1                 0\n",
            "1       57       149  ...                     1                 0\n",
            "2       37       226  ...                     1                 0\n",
            "3       40       151  ...                     1                 0\n",
            "4       56       307  ...                     1                 0\n",
            "...    ...       ...  ...                   ...               ...\n",
            "41183   73       334  ...                     1                 0\n",
            "41184   46       383  ...                     1                 0\n",
            "41185   56       189  ...                     1                 0\n",
            "41186   44       442  ...                     1                 0\n",
            "41187   74       239  ...                     0                 0\n",
            "\n",
            "[41188 rows x 64 columns]\n"
          ],
          "name": "stdout"
        }
      ]
    },
    {
      "cell_type": "code",
      "metadata": {
        "id": "CuTxoZVkS2b0"
      },
      "source": [
        "#Dropping the duration column\r\n",
        "df_dummies.drop(['duration'],axis = 1, inplace = True) "
      ],
      "execution_count": 54,
      "outputs": []
    },
    {
      "cell_type": "code",
      "metadata": {
        "colab": {
          "base_uri": "https://localhost:8080/"
        },
        "id": "ESsy8NCOUKT0",
        "outputId": "c9c05bfe-d0db-4f53-a235-bc8fee3d82d7"
      },
      "source": [
        "df_dummies.columns"
      ],
      "execution_count": 55,
      "outputs": [
        {
          "output_type": "execute_result",
          "data": {
            "text/plain": [
              "Index(['age', 'campaign', 'pdays', 'previous', 'emp.var.rate',\n",
              "       'cons.price.idx', 'cons.conf.idx', 'euribor3m', 'nr.employed', 'y',\n",
              "       'job_admin.', 'job_blue-collar', 'job_entrepreneur', 'job_housemaid',\n",
              "       'job_management', 'job_retired', 'job_self-employed', 'job_services',\n",
              "       'job_student', 'job_technician', 'job_unemployed', 'job_unknown',\n",
              "       'marital_divorced', 'marital_married', 'marital_single',\n",
              "       'marital_unknown', 'education_basic.4y', 'education_basic.6y',\n",
              "       'education_basic.9y', 'education_high.school', 'education_illiterate',\n",
              "       'education_professional.course', 'education_university.degree',\n",
              "       'education_unknown', 'default_no', 'default_unknown', 'default_yes',\n",
              "       'housing_no', 'housing_unknown', 'housing_yes', 'loan_no',\n",
              "       'loan_unknown', 'loan_yes', 'contact_cellular', 'contact_telephone',\n",
              "       'month_apr', 'month_aug', 'month_dec', 'month_jul', 'month_jun',\n",
              "       'month_mar', 'month_may', 'month_nov', 'month_oct', 'month_sep',\n",
              "       'day_of_week_fri', 'day_of_week_mon', 'day_of_week_thu',\n",
              "       'day_of_week_tue', 'day_of_week_wed', 'poutcome_failure',\n",
              "       'poutcome_nonexistent', 'poutcome_success'],\n",
              "      dtype='object')"
            ]
          },
          "metadata": {
            "tags": []
          },
          "execution_count": 55
        }
      ]
    },
    {
      "cell_type": "code",
      "metadata": {
        "colab": {
          "base_uri": "https://localhost:8080/"
        },
        "id": "dE-4hpQkTb5u",
        "outputId": "84e7d49a-2d23-4c53-8822-f242d2ff0de5"
      },
      "source": [
        "#Checking for missing values\r\n",
        "df_dummies.isnull().sum()   \r\n",
        "\r\n",
        "#Since there are no missing values no rows are dropped"
      ],
      "execution_count": 56,
      "outputs": [
        {
          "output_type": "execute_result",
          "data": {
            "text/plain": [
              "age                     0\n",
              "campaign                0\n",
              "pdays                   0\n",
              "previous                0\n",
              "emp.var.rate            0\n",
              "                       ..\n",
              "day_of_week_tue         0\n",
              "day_of_week_wed         0\n",
              "poutcome_failure        0\n",
              "poutcome_nonexistent    0\n",
              "poutcome_success        0\n",
              "Length: 63, dtype: int64"
            ]
          },
          "metadata": {
            "tags": []
          },
          "execution_count": 56
        }
      ]
    },
    {
      "cell_type": "code",
      "metadata": {
        "colab": {
          "base_uri": "https://localhost:8080/",
          "height": 279
        },
        "id": "dlPojNx6Uvbx",
        "outputId": "0d533596-40c5-4874-e6bb-a02a4a9530c9"
      },
      "source": [
        "#Histogram plot of the label\r\n",
        "sns_plot = sns.histplot(df_dummies['y'])"
      ],
      "execution_count": 57,
      "outputs": [
        {
          "output_type": "display_data",
          "data": {
            "image/png": "[encoded data removed]",
            "text/plain": [
              "<Figure size 432x288 with 1 Axes>"
            ]
          },
          "metadata": {
            "tags": [],
            "needs_background": "light"
          }
        }
      ]
    },
    {
      "cell_type": "code",
      "metadata": {
        "colab": {
          "base_uri": "https://localhost:8080/"
        },
        "id": "nBJgxvx5WJN2",
        "outputId": "76492709-ced5-4b33-9276-5cb4ea6a330d"
      },
      "source": [
        "#Calculating the imbalance in the dataset\r\n",
        "values=df_dummies['y'].value_counts()\r\n",
        "values"
      ],
      "execution_count": 58,
      "outputs": [
        {
          "output_type": "execute_result",
          "data": {
            "text/plain": [
              "0    36548\n",
              "1     4640\n",
              "Name: y, dtype: int64"
            ]
          },
          "metadata": {
            "tags": []
          },
          "execution_count": 58
        }
      ]
    },
    {
      "cell_type": "code",
      "metadata": {
        "colab": {
          "base_uri": "https://localhost:8080/"
        },
        "id": "uj2mIOIAZmIf",
        "outputId": "82cb983e-b946-4638-c999-622f61c824d3"
      },
      "source": [
        "values[0]"
      ],
      "execution_count": 59,
      "outputs": [
        {
          "output_type": "execute_result",
          "data": {
            "text/plain": [
              "36548"
            ]
          },
          "metadata": {
            "tags": []
          },
          "execution_count": 59
        }
      ]
    },
    {
      "cell_type": "code",
      "metadata": {
        "colab": {
          "base_uri": "https://localhost:8080/"
        },
        "id": "27D1sgUWZrcu",
        "outputId": "fd816abd-d18a-45e2-81e4-f94340ec6f0f"
      },
      "source": [
        "values[1]"
      ],
      "execution_count": 60,
      "outputs": [
        {
          "output_type": "execute_result",
          "data": {
            "text/plain": [
              "4640"
            ]
          },
          "metadata": {
            "tags": []
          },
          "execution_count": 60
        }
      ]
    },
    {
      "cell_type": "code",
      "metadata": {
        "colab": {
          "base_uri": "https://localhost:8080/"
        },
        "id": "TCKa12xwY8ee",
        "outputId": "5e75bc44-c2b3-45ae-ebbb-2dcd84ca1769"
      },
      "source": [
        "Imbalance=(values[1]/values[0])\r\n",
        "Imbalance\r\n"
      ],
      "execution_count": 61,
      "outputs": [
        {
          "output_type": "execute_result",
          "data": {
            "text/plain": [
              "0.126956331399803"
            ]
          },
          "metadata": {
            "tags": []
          },
          "execution_count": 61
        }
      ]
    },
    {
      "cell_type": "code",
      "metadata": {
        "colab": {
          "base_uri": "https://localhost:8080/"
        },
        "id": "ik3PtBHP1PE0",
        "outputId": "fc2102cd-de27-409e-d491-e13f77cc5979"
      },
      "source": [
        "Imbalance_1=(values[1]/values)\r\n",
        "Imbalance_1\r\n"
      ],
      "execution_count": 62,
      "outputs": [
        {
          "output_type": "execute_result",
          "data": {
            "text/plain": [
              "0    0.126956\n",
              "1    1.000000\n",
              "Name: y, dtype: float64"
            ]
          },
          "metadata": {
            "tags": []
          },
          "execution_count": 62
        }
      ]
    },
    {
      "cell_type": "code",
      "metadata": {
        "id": "G_dsvgylc8vi"
      },
      "source": [
        "#split dataset in features and target variable\r\n",
        "X = df_dummies.drop('y',axis=1) # Features\r\n",
        "y = df_dummies.y # Target variable"
      ],
      "execution_count": 63,
      "outputs": []
    },
    {
      "cell_type": "code",
      "metadata": {
        "id": "kiZdnLKxaT3U"
      },
      "source": [
        "#Spliting the data into test and train set\r\n",
        "from sklearn.model_selection import train_test_split\r\n",
        "X_train, X_test, y_train, y_test = train_test_split(X, y,stratify=y,test_size=0.20,random_state=50)"
      ],
      "execution_count": 64,
      "outputs": []
    },
    {
      "cell_type": "code",
      "metadata": {
        "colab": {
          "base_uri": "https://localhost:8080/"
        },
        "id": "w092Tw40brFM",
        "outputId": "e5017791-deb5-4d6a-e1c8-60aabd001f4a"
      },
      "source": [
        "from sklearn.metrics import f1_score\r\n",
        "# Fitting Random Forest Classifier to the dataset \r\n",
        "#Create a Random Forest Classifier\r\n",
        "RF_Classifier = RandomForestClassifier(n_estimators=100,max_depth=3)\r\n",
        "\r\n",
        "#Train the model using the training sets\r\n",
        "RF_Classifier.fit(X_train, y_train)\r\n",
        "\r\n",
        "#Predict the response for test dataset\r\n",
        "y_pred = RF_Classifier.predict(X_test)\r\n",
        "\r\n",
        "print(\"F1 score:\", f1_score(y_test, y_pred))"
      ],
      "execution_count": 65,
      "outputs": [
        {
          "output_type": "stream",
          "text": [
            "F1 score: 0.2896551724137931\n"
          ],
          "name": "stdout"
        }
      ]
    },
    {
      "cell_type": "code",
      "metadata": {
        "colab": {
          "base_uri": "https://localhost:8080/"
        },
        "id": "5vx0fTa1gPa4",
        "outputId": "aee1f44b-3e4b-4c2f-b6e5-c68d792c48ef"
      },
      "source": [
        "import sklearn\r\n",
        "sorted(sklearn.metrics.SCORERS.keys())"
      ],
      "execution_count": 71,
      "outputs": [
        {
          "output_type": "execute_result",
          "data": {
            "text/plain": [
              "['accuracy',\n",
              " 'adjusted_mutual_info_score',\n",
              " 'adjusted_rand_score',\n",
              " 'average_precision',\n",
              " 'balanced_accuracy',\n",
              " 'completeness_score',\n",
              " 'explained_variance',\n",
              " 'f1',\n",
              " 'f1_macro',\n",
              " 'f1_micro',\n",
              " 'f1_samples',\n",
              " 'f1_weighted',\n",
              " 'fowlkes_mallows_score',\n",
              " 'homogeneity_score',\n",
              " 'jaccard',\n",
              " 'jaccard_macro',\n",
              " 'jaccard_micro',\n",
              " 'jaccard_samples',\n",
              " 'jaccard_weighted',\n",
              " 'max_error',\n",
              " 'mutual_info_score',\n",
              " 'neg_brier_score',\n",
              " 'neg_log_loss',\n",
              " 'neg_mean_absolute_error',\n",
              " 'neg_mean_gamma_deviance',\n",
              " 'neg_mean_poisson_deviance',\n",
              " 'neg_mean_squared_error',\n",
              " 'neg_mean_squared_log_error',\n",
              " 'neg_median_absolute_error',\n",
              " 'neg_root_mean_squared_error',\n",
              " 'normalized_mutual_info_score',\n",
              " 'precision',\n",
              " 'precision_macro',\n",
              " 'precision_micro',\n",
              " 'precision_samples',\n",
              " 'precision_weighted',\n",
              " 'r2',\n",
              " 'recall',\n",
              " 'recall_macro',\n",
              " 'recall_micro',\n",
              " 'recall_samples',\n",
              " 'recall_weighted',\n",
              " 'roc_auc',\n",
              " 'roc_auc_ovo',\n",
              " 'roc_auc_ovo_weighted',\n",
              " 'roc_auc_ovr',\n",
              " 'roc_auc_ovr_weighted',\n",
              " 'v_measure_score']"
            ]
          },
          "metadata": {
            "tags": []
          },
          "execution_count": 71
        }
      ]
    },
    {
      "cell_type": "code",
      "metadata": {
        "colab": {
          "base_uri": "https://localhost:8080/"
        },
        "id": "L7IIyfmydZLV",
        "outputId": "64a8dd36-bca4-4723-aa18-a9c496554cce"
      },
      "source": [
        "from sklearn.metrics import f1_score\r\n",
        "#Checking the cross validation scores and prediction\r\n",
        "score=cross_val_score(RF_Classifier, X_train, y_train, cv=10,)\r\n",
        "print('cross_val_score=',score)\r\n",
        "predictions = cross_val_predict(RF_Classifier, X_train, y_train, cv=10)\r\n",
        "f1_score_clf = f1_score(y_train,predictions)\r\n",
        "print('Cross-Predicted f1_score:', f1_score_clf) \r\n"
      ],
      "execution_count": 67,
      "outputs": [
        {
          "output_type": "stream",
          "text": [
            "cross_val_score= [0.89438543 0.90045524 0.89468892 0.89711684 0.89408194 0.90045524\n",
            " 0.907739   0.89681335 0.89893778 0.89590288]\n",
            "Cross-Predicted f1_score: 0.239404869251578\n"
          ],
          "name": "stdout"
        }
      ]
    },
    {
      "cell_type": "code",
      "metadata": {
        "colab": {
          "base_uri": "https://localhost:8080/"
        },
        "id": "DvNE1apWaf38",
        "outputId": "94442fc3-f66b-4344-ceef-d448872c9e67"
      },
      "source": [
        "#Checking the cross validation average scores\r\n",
        "score=cross_val_score(RF_Classifier, X_train, y_train, cv=10,scoring=\"f1\")\r\n",
        "print('cross_val_mean:', score.mean()) "
      ],
      "execution_count": 68,
      "outputs": [
        {
          "output_type": "stream",
          "text": [
            "cross_val_mean: 0.2460183136256246\n"
          ],
          "name": "stdout"
        }
      ]
    },
    {
      "cell_type": "code",
      "metadata": {
        "colab": {
          "base_uri": "https://localhost:8080/"
        },
        "id": "_YM8UC9QegqU",
        "outputId": "00282a3b-22b7-499e-ebf3-1e69b327fa7c"
      },
      "source": [
        "dummy_clf = DummyClassifier(strategy='stratified')\r\n",
        "dummy_clf.fit(X_train, y_train)\r\n",
        "print(\"Dummy f1_score: \" , f1_score(y_test, dummy_clf.predict(X_test)))"
      ],
      "execution_count": 38,
      "outputs": [
        {
          "output_type": "stream",
          "text": [
            "Dummy f1_score:  0.12172984516817939\n"
          ],
          "name": "stdout"
        }
      ]
    },
    {
      "cell_type": "code",
      "metadata": {
        "id": "fe0Vby83t6rY"
      },
      "source": [
        "from sklearn.model_selection import GridSearchCV\r\n",
        "#Using the Grid search CV we can tune the hyperparameters\r\n",
        "# defining parameter range \r\n",
        "param_grid = { \r\n",
        "    'n_estimators': [50,100,150,200,250,300,350,400], \r\n",
        "    'max_features': ['auto'],\r\n",
        "    'max_depth' : [5,10,15,20,25,30],\r\n",
        "    'criterion' :['gini', 'entropy']\r\n",
        "}"
      ],
      "execution_count": 87,
      "outputs": []
    },
    {
      "cell_type": "code",
      "metadata": {
        "colab": {
          "base_uri": "https://localhost:8080/"
        },
        "id": "mc6duUABvYyF",
        "outputId": "835735c8-1a22-49e4-d0d4-877d030a43f6"
      },
      "source": [
        "grid = GridSearchCV(estimator=RF_Classifier, param_grid=param_grid, cv= 5)\r\n",
        "# fitting the model for grid search \r\n",
        "grid.fit(X_train, y_train) \r\n"
      ],
      "execution_count": 91,
      "outputs": [
        {
          "output_type": "execute_result",
          "data": {
            "text/plain": [
              "GridSearchCV(cv=5, error_score=nan,\n",
              "             estimator=RandomForestClassifier(bootstrap=True, ccp_alpha=0.0,\n",
              "                                              class_weight=None,\n",
              "                                              criterion='gini', max_depth=3,\n",
              "                                              max_features='auto',\n",
              "                                              max_leaf_nodes=None,\n",
              "                                              max_samples=None,\n",
              "                                              min_impurity_decrease=0.0,\n",
              "                                              min_impurity_split=None,\n",
              "                                              min_samples_leaf=1,\n",
              "                                              min_samples_split=2,\n",
              "                                              min_weight_fraction_leaf=0.0,\n",
              "                                              n_estimators=100, n_jobs=None,\n",
              "                                              oob_score=False,\n",
              "                                              random_state=None, verbose=0,\n",
              "                                              warm_start=False),\n",
              "             iid='deprecated', n_jobs=None,\n",
              "             param_grid={'criterion': ['gini', 'entropy'],\n",
              "                         'max_depth': [5, 10, 15, 20, 25, 30],\n",
              "                         'max_features': ['auto'],\n",
              "                         'n_estimators': [50, 100, 150, 200, 250, 300, 350,\n",
              "                                          400]},\n",
              "             pre_dispatch='2*n_jobs', refit=True, return_train_score=False,\n",
              "             scoring=None, verbose=0)"
            ]
          },
          "metadata": {
            "tags": []
          },
          "execution_count": 91
        }
      ]
    },
    {
      "cell_type": "code",
      "metadata": {
        "colab": {
          "base_uri": "https://localhost:8080/"
        },
        "id": "lRVAaSIhwMAX",
        "outputId": "523cac1a-ddb3-4436-a728-fdbb0ded482a"
      },
      "source": [
        "# print best parameter after tuning \r\n",
        "print(grid.best_params_)"
      ],
      "execution_count": 92,
      "outputs": [
        {
          "output_type": "stream",
          "text": [
            "{'criterion': 'entropy', 'max_depth': 10, 'max_features': 'auto', 'n_estimators': 200}\n"
          ],
          "name": "stdout"
        }
      ]
    },
    {
      "cell_type": "code",
      "metadata": {
        "colab": {
          "base_uri": "https://localhost:8080/"
        },
        "id": "ofwKjFWo_Jjs",
        "outputId": "4b1bf91e-cc1d-4503-c787-7830096252aa"
      },
      "source": [
        "# Fitting Random Forest Classifier to the dataset after hyperparameter tuning\r\n",
        "#Create a Random Forest Classifier\r\n",
        "RF_Classifier = RandomForestClassifier(n_estimators=200,max_depth=10,max_features='auto',criterion='entropy')\r\n",
        "\r\n",
        "#Train the model using the training sets\r\n",
        "RF_Classifier.fit(X_train, y_train)\r\n",
        "\r\n",
        "#Predict the response for test dataset\r\n",
        "y_pred = RF_Classifier.predict(X_test)\r\n",
        "\r\n",
        "print(\"F1 score:\", f1_score(y_test, y_pred,average='weighted'))"
      ],
      "execution_count": 26,
      "outputs": [
        {
          "output_type": "stream",
          "text": [
            "F1 score: 0.8784445847084498\n"
          ],
          "name": "stdout"
        }
      ]
    },
    {
      "cell_type": "code",
      "metadata": {
        "colab": {
          "base_uri": "https://localhost:8080/"
        },
        "id": "ShyF2TKr_RNd",
        "outputId": "26af9af4-3d59-46f2-c938-499e63538941"
      },
      "source": [
        "from sklearn.metrics import f1_score\r\n",
        "#Checking the cross validation scores and prediction\r\n",
        "score=cross_val_score(RF_Classifier, X_train, y_train, cv=10,)\r\n",
        "print('cross_val_score=',score)\r\n",
        "predictions = cross_val_predict(RF_Classifier, X_train, y_train, cv=10)\r\n",
        "f1_score_clf = f1_score(y_train,predictions,average='weighted')\r\n",
        "print('Cross-Predicted f1_score:', f1_score_clf) \r\n"
      ],
      "execution_count": 27,
      "outputs": [
        {
          "output_type": "stream",
          "text": [
            "cross_val_score= [0.89954476 0.90288316 0.89742033 0.90136571 0.89195751 0.90349014\n",
            " 0.91198786 0.8983308  0.90075873 0.89954476]\n",
            "Cross-Predicted f1_score: 0.8767368365888595\n"
          ],
          "name": "stdout"
        }
      ]
    },
    {
      "cell_type": "code",
      "metadata": {
        "id": "OeEgaC4geywH"
      },
      "source": [
        "#Checking the cross validation average scores\r\n",
        "score=cross_val_score(RF_Classifier, X_train, y_train, cv=10,scoring=\"f1\")\r\n",
        "print('cross_val_mean:', score.mean()) "
      ],
      "execution_count": null,
      "outputs": []
    },
    {
      "cell_type": "code",
      "metadata": {
        "id": "fq3YTuZsrU6s"
      },
      "source": [
        "#Assigning the column names to features\r\n",
        "features=['age', 'campaign', 'pdays', 'previous', 'emp.var.rate',\r\n",
        "       'cons.price.idx', 'cons.conf.idx', 'euribor3m', 'nr.employed', 'y',\r\n",
        "       'job_admin.', 'job_blue-collar', 'job_entrepreneur', 'job_housemaid',\r\n",
        "       'job_management', 'job_retired', 'job_self-employed', 'job_services',\r\n",
        "       'job_student', 'job_technician', 'job_unemployed', 'job_unknown',\r\n",
        "       'marital_divorced', 'marital_married', 'marital_single',\r\n",
        "       'marital_unknown', 'education_basic.4y', 'education_basic.6y',\r\n",
        "       'education_basic.9y', 'education_high.school', 'education_illiterate',\r\n",
        "       'education_professional.course', 'education_university.degree',\r\n",
        "       'education_unknown', 'default_no', 'default_unknown', 'default_yes',\r\n",
        "       'housing_no', 'housing_unknown', 'housing_yes', 'loan_no',\r\n",
        "       'loan_unknown', 'loan_yes', 'contact_cellular', 'contact_telephone',\r\n",
        "       'month_apr', 'month_aug', 'month_dec', 'month_jul', 'month_jun',\r\n",
        "       'month_mar', 'month_may', 'month_nov', 'month_oct', 'month_sep',\r\n",
        "       'day_of_week_fri', 'day_of_week_mon', 'day_of_week_thu',\r\n",
        "       'day_of_week_tue', 'day_of_week_wed', 'poutcome_failure',\r\n",
        "       'poutcome_nonexistent', 'poutcome_success']"
      ],
      "execution_count": 28,
      "outputs": []
    },
    {
      "cell_type": "code",
      "metadata": {
        "colab": {
          "base_uri": "https://localhost:8080/",
          "height": 1000
        },
        "id": "7_tgLApE_9bT",
        "outputId": "7c5c50a9-337c-47af-9a1b-735d02d16c3f"
      },
      "source": [
        "#Feature importance\r\n",
        "importances = RF_Classifier.feature_importances_\r\n",
        "std = np.std([tree.feature_importances_ for tree in RF_Classifier.estimators_],\r\n",
        "             axis=0)\r\n",
        "indices = np.argsort(importances)[::-1]\r\n",
        "print(indices)\r\n",
        "\r\n",
        "# Print the feature ranking\r\n",
        "print(\"Feature ranking:\")\r\n",
        "\r\n",
        "for f in range(X.shape[1]):\r\n",
        "    print(\"%d. %s (%f)\" % (f + 1, features[indices[f]],  importances[indices[f]]))\r\n",
        "\r\n",
        "# Plot the feature importances of the forest\r\n",
        "fig = plt.figure()\r\n",
        "plt.title(\"Feature importances\")\r\n",
        "plt.bar(range(X.shape[1]), importances[indices],\r\n",
        "       color=\"r\", yerr=std[indices], align=\"center\")\r\n",
        "plt.xticks(range(X.shape[1]), np.array(features)[indices])\r\n",
        "plt.xlim([-1, X.shape[1]])\r\n",
        "plt.ylim([0, None])\r\n",
        "\r\n",
        "fig.set_size_inches(15, 8)\r\n",
        "\r\n",
        "# plt.savefig(\"importances.pdf\", bbox_inches='tight')\r\n",
        "\r\n",
        "# We see the top 3 are:\r\n",
        "#1. nr.employed (0.156643)\r\n",
        "#2. euribor3m (0.156275)\r\n",
        "#3. emp.var.rate (0.081952)"
      ],
      "execution_count": 29,
      "outputs": [
        {
          "output_type": "stream",
          "text": [
            "[ 8  7  4  2  6  5 61  0  3  1 42 43 60 50 52 59 49 44 55 33 34 48 10 31\n",
            " 56 54 57 23 36 22 38 58 28 41  9 14 18 39 17 27 30 25 45 21 32 53 16 13\n",
            " 51 15 47 12 26 19 37 11 40 20 46 24 29 35]\n",
            "Feature ranking:\n",
            "1. nr.employed (0.156643)\n",
            "2. euribor3m (0.156275)\n",
            "3. emp.var.rate (0.081952)\n",
            "4. pdays (0.073585)\n",
            "5. cons.conf.idx (0.066330)\n",
            "6. cons.price.idx (0.057201)\n",
            "7. poutcome_nonexistent (0.045805)\n",
            "8. age (0.039820)\n",
            "9. previous (0.022040)\n",
            "10. campaign (0.018609)\n",
            "11. loan_yes (0.018387)\n",
            "12. contact_cellular (0.017732)\n",
            "13. poutcome_failure (0.017051)\n",
            "14. month_mar (0.016238)\n",
            "15. month_nov (0.013568)\n",
            "16. day_of_week_wed (0.013096)\n",
            "17. month_jun (0.012345)\n",
            "18. contact_telephone (0.009866)\n",
            "19. day_of_week_fri (0.008319)\n",
            "20. education_unknown (0.007642)\n",
            "21. default_no (0.006869)\n",
            "22. month_jul (0.006504)\n",
            "23. job_admin. (0.006390)\n",
            "24. education_professional.course (0.006144)\n",
            "25. day_of_week_mon (0.005290)\n",
            "26. month_sep (0.005225)\n",
            "27. day_of_week_thu (0.005138)\n",
            "28. marital_married (0.005088)\n",
            "29. default_yes (0.004840)\n",
            "30. marital_divorced (0.004806)\n",
            "31. housing_unknown (0.004722)\n",
            "32. day_of_week_tue (0.004627)\n",
            "33. education_basic.9y (0.004364)\n",
            "34. loan_unknown (0.004172)\n",
            "35. y (0.004159)\n",
            "36. job_management (0.004115)\n",
            "37. job_student (0.004095)\n",
            "38. housing_yes (0.003810)\n",
            "39. job_services (0.003637)\n",
            "40. education_basic.6y (0.003628)\n",
            "41. education_illiterate (0.003565)\n",
            "42. marital_unknown (0.003476)\n",
            "43. month_apr (0.003406)\n",
            "44. job_unknown (0.003276)\n",
            "45. education_university.degree (0.003147)\n",
            "46. month_oct (0.003036)\n",
            "47. job_self-employed (0.002999)\n",
            "48. job_housemaid (0.002960)\n",
            "49. month_may (0.002839)\n",
            "50. job_retired (0.002483)\n",
            "51. month_dec (0.002478)\n",
            "52. job_entrepreneur (0.002449)\n",
            "53. education_basic.4y (0.002350)\n",
            "54. job_technician (0.002259)\n",
            "55. housing_no (0.001872)\n",
            "56. job_blue-collar (0.001761)\n",
            "57. loan_no (0.001699)\n",
            "58. job_unemployed (0.001613)\n",
            "59. month_aug (0.001253)\n",
            "60. marital_single (0.000745)\n",
            "61. education_high.school (0.000200)\n",
            "62. default_unknown (0.000001)\n"
          ],
          "name": "stdout"
        },
        {
          "output_type": "display_data",
          "data": {
            "image/png": "[encoded data removed]",
            "text/plain": [
              "<Figure size 1080x576 with 1 Axes>"
            ]
          },
          "metadata": {
            "tags": [],
            "needs_background": "light"
          }
        }
      ]
    },
    {
      "cell_type": "markdown",
      "metadata": {
        "id": "hYtejEGTOfJh"
      },
      "source": [
        "## For Moodle Quiz\r\n"
      ]
    },
    {
      "cell_type": "code",
      "metadata": {
        "colab": {
          "base_uri": "https://localhost:8080/"
        },
        "id": "VgCw3xDcOpPc",
        "outputId": "5686bbfe-e59d-4e95-ceee-4f736a6d1e61"
      },
      "source": [
        "#For n_estimators=250,max_depth=6\r\n",
        "from sklearn.metrics import f1_score\r\n",
        "# Fitting Random Forest Classifier to the dataset \r\n",
        "#Create a Random Forest Classifier\r\n",
        "RF_Classifier = RandomForestClassifier(n_estimators=250,max_depth=6)\r\n",
        "\r\n",
        "#Train the model using the training sets\r\n",
        "RF_Classifier.fit(X_train, y_train)\r\n",
        "\r\n",
        "#Predict the response for test dataset\r\n",
        "y_pred = RF_Classifier.predict(X_test)\r\n",
        "\r\n",
        "print(\"F1 score:\", f1_score(y_test, y_pred))"
      ],
      "execution_count": 72,
      "outputs": [
        {
          "output_type": "stream",
          "text": [
            "F1 score: 0.30988274706867674\n"
          ],
          "name": "stdout"
        }
      ]
    },
    {
      "cell_type": "code",
      "metadata": {
        "colab": {
          "base_uri": "https://localhost:8080/"
        },
        "id": "pBAvF5U-O-ot",
        "outputId": "1e485b05-256e-4977-bafa-dd3f634bb41b"
      },
      "source": [
        "from sklearn.metrics import f1_score\r\n",
        "#Checking the cross validation scores and prediction\r\n",
        "score=cross_val_score(RF_Classifier, X_train, y_train, cv=10,)\r\n",
        "print('cross_val_score=',score)\r\n",
        "predictions = cross_val_predict(RF_Classifier, X_train, y_train, cv=10)\r\n",
        "f1_score_clf = f1_score(y_train,predictions)\r\n",
        "print('Cross-Predicted f1_score:', f1_score_clf) \r\n"
      ],
      "execution_count": 73,
      "outputs": [
        {
          "output_type": "stream",
          "text": [
            "cross_val_score= [0.89559939 0.90197269 0.89408194 0.90045524 0.89468892 0.90318665\n",
            " 0.90955994 0.89711684 0.89924127 0.89772382]\n",
            "Cross-Predicted f1_score: 0.283120812621569\n"
          ],
          "name": "stdout"
        }
      ]
    },
    {
      "cell_type": "code",
      "metadata": {
        "colab": {
          "base_uri": "https://localhost:8080/"
        },
        "id": "SX8iTCbme8VP",
        "outputId": "75cb15b4-231f-41ea-c704-b868619ad064"
      },
      "source": [
        "#Checking the cross validation average scores\r\n",
        "score=cross_val_score(RF_Classifier, X_train, y_train, cv=10,scoring=\"f1\")\r\n",
        "print('cross_val_mean:', score.mean()) "
      ],
      "execution_count": 74,
      "outputs": [
        {
          "output_type": "stream",
          "text": [
            "cross_val_mean: 0.28385452077926226\n"
          ],
          "name": "stdout"
        }
      ]
    },
    {
      "cell_type": "code",
      "metadata": {
        "colab": {
          "base_uri": "https://localhost:8080/"
        },
        "id": "OO9pE3zAQfFf",
        "outputId": "95b4c388-29c1-4928-d991-098c88648595"
      },
      "source": [
        "#For n_estimators=300,max_depth=6\r\n",
        "from sklearn.metrics import f1_score\r\n",
        "# Fitting Random Forest Classifier to the dataset \r\n",
        "#Create a Random Forest Classifier\r\n",
        "RF_Classifier = RandomForestClassifier(n_estimators=300,max_depth=6)\r\n",
        "\r\n",
        "#Train the model using the training sets\r\n",
        "RF_Classifier.fit(X_train, y_train)\r\n",
        "\r\n",
        "#Predict the response for test dataset\r\n",
        "y_pred = RF_Classifier.predict(X_test)\r\n",
        "\r\n",
        "print(\"F1 score:\", f1_score(y_test, y_pred))"
      ],
      "execution_count": 75,
      "outputs": [
        {
          "output_type": "stream",
          "text": [
            "F1 score: 0.30704697986577184\n"
          ],
          "name": "stdout"
        }
      ]
    },
    {
      "cell_type": "code",
      "metadata": {
        "colab": {
          "base_uri": "https://localhost:8080/"
        },
        "id": "nk2FNvpZQiDy",
        "outputId": "095956f7-6368-4fd2-e422-25558b26a569"
      },
      "source": [
        "from sklearn.metrics import f1_score\r\n",
        "#Checking the cross validation scores and prediction\r\n",
        "score=cross_val_score(RF_Classifier, X_train, y_train, cv=10,)\r\n",
        "print('cross_val_score=',score)\r\n",
        "predictions = cross_val_predict(RF_Classifier, X_train, y_train, cv=10)\r\n",
        "f1_score_clf = f1_score(y_train,predictions)\r\n",
        "print('Cross-Predicted f1_score:', f1_score_clf)\r\n"
      ],
      "execution_count": 77,
      "outputs": [
        {
          "output_type": "stream",
          "text": [
            "cross_val_score= [0.89559939 0.90227618 0.89499241 0.90015175 0.89438543 0.90349014\n",
            " 0.90955994 0.89711684 0.89893778 0.89742033]\n",
            "Cross-Predicted f1_score: 0.28509719222462204\n"
          ],
          "name": "stdout"
        }
      ]
    },
    {
      "cell_type": "code",
      "metadata": {
        "colab": {
          "base_uri": "https://localhost:8080/"
        },
        "id": "pvKEVLWAe_xN",
        "outputId": "ed958dbb-52c7-45b7-d70c-cb961876cd89"
      },
      "source": [
        "#Checking the cross validation average scores\r\n",
        "score=cross_val_score(RF_Classifier, X_train, y_train, cv=10,scoring=\"f1\")\r\n",
        "print('cross_val_mean:', score.mean()) "
      ],
      "execution_count": 78,
      "outputs": [
        {
          "output_type": "stream",
          "text": [
            "cross_val_mean: 0.28211746901426327\n"
          ],
          "name": "stdout"
        }
      ]
    },
    {
      "cell_type": "code",
      "metadata": {
        "colab": {
          "base_uri": "https://localhost:8080/"
        },
        "id": "pBvrNcmvSAbi",
        "outputId": "a12bcede-318b-4b51-db84-d89eaf8d4f1b"
      },
      "source": [
        "#For n_estimators=400,max_depth=6,random_state=60 generalisation error\r\n",
        "from sklearn.metrics import f1_score\r\n",
        "# Fitting Random Forest Classifier to the dataset \r\n",
        "#Create a Random Forest Classifier\r\n",
        "RF_Classifier = RandomForestClassifier(n_estimators=400,max_depth=6,random_state=60)\r\n",
        "\r\n",
        "#Train the model using the training sets\r\n",
        "RF_Classifier.fit(X_train, y_train)\r\n",
        "\r\n",
        "#Predict the response for test dataset\r\n",
        "y_pred = RF_Classifier.predict(X_test)\r\n",
        "\r\n",
        "print(\"F1 score:\", f1_score(y_test, y_pred))"
      ],
      "execution_count": 80,
      "outputs": [
        {
          "output_type": "stream",
          "text": [
            "F1 score: 0.30846605196982396\n"
          ],
          "name": "stdout"
        }
      ]
    },
    {
      "cell_type": "code",
      "metadata": {
        "colab": {
          "base_uri": "https://localhost:8080/"
        },
        "id": "5dlxdNBYm656",
        "outputId": "8804833d-dd3a-4ea7-b09e-6789dedad845"
      },
      "source": [
        "#For n_estimators=1000,max_depth=10,random_state=60 top 3 features\r\n",
        "from sklearn.metrics import f1_score\r\n",
        "# Fitting Random Forest Classifier to the dataset \r\n",
        "#Create a Random Forest Classifier\r\n",
        "RF_Classifier = RandomForestClassifier(n_estimators=1000,max_depth=10,random_state=60)\r\n",
        "\r\n",
        "#Train the model using the training sets\r\n",
        "RF_Classifier.fit(X_train, y_train)\r\n",
        "\r\n",
        "#Predict the response for test dataset\r\n",
        "y_pred = RF_Classifier.predict(X_test)\r\n",
        "\r\n",
        "print(\"F1 score:\", f1_score(y_test, y_pred))"
      ],
      "execution_count": 82,
      "outputs": [
        {
          "output_type": "stream",
          "text": [
            "F1 score: 0.3581616481774961\n"
          ],
          "name": "stdout"
        }
      ]
    },
    {
      "cell_type": "code",
      "metadata": {
        "colab": {
          "base_uri": "https://localhost:8080/",
          "height": 1000
        },
        "id": "RkgCHXcZR7va",
        "outputId": "9e3c54cb-fd57-4710-fd99-73f0ae1022c3"
      },
      "source": [
        "#Feature importance for n_estimators=100,max_depth=12,random_state=60\r\n",
        "importances = RF_Classifier.feature_importances_\r\n",
        "std = np.std([tree.feature_importances_ for tree in RF_Classifier.estimators_],\r\n",
        "             axis=0)\r\n",
        "indices = np.argsort(importances)[::-1]\r\n",
        "print(indices)\r\n",
        "\r\n",
        "# Print the feature ranking\r\n",
        "print(\"Feature ranking:\")\r\n",
        "\r\n",
        "for f in range(X.shape[1]):\r\n",
        "    print(\"%d. %s (%f)\" % (f + 1, features[indices[f]],  importances[indices[f]]))\r\n",
        "\r\n",
        "# Plot the feature importances of the forest\r\n",
        "fig = plt.figure()\r\n",
        "plt.title(\"Feature importances\")\r\n",
        "plt.bar(range(X.shape[1]), importances[indices],\r\n",
        "       color=\"r\", yerr=std[indices], align=\"center\")\r\n",
        "plt.xticks(range(X.shape[1]), np.array(features)[indices])\r\n",
        "plt.xlim([-1, X.shape[1]])\r\n",
        "plt.ylim([0, None])\r\n",
        "\r\n",
        "fig.set_size_inches(15, 8)\r\n",
        "\r\n",
        "# plt.savefig(\"importances.pdf\", bbox_inches='tight')\r\n",
        "\r\n",
        "# We see the top 3 are:\r\n",
        "#1. nr.employed (0.146933)\r\n",
        "#2. euribor3m (0.142862)\r\n",
        "#3. pdays (0.093918)"
      ],
      "execution_count": 83,
      "outputs": [
        {
          "output_type": "stream",
          "text": [
            "[ 8  7  2 61  4  6  5  0  3  1 60 59 52 49 42 50 43 55 44 31 56 54 38 57\n",
            " 36 10 23 48 22 58 14 28 33 17 34 53  9 39 18 30 41 27 21 25 32 45 16 13\n",
            " 51 47 15 26 19 46 12 40 37 20 11 24 29 35]\n",
            "Feature ranking:\n",
            "1. nr.employed (0.146933)\n",
            "2. euribor3m (0.142862)\n",
            "3. pdays (0.093918)\n",
            "4. poutcome_nonexistent (0.074663)\n",
            "5. emp.var.rate (0.066610)\n",
            "6. cons.conf.idx (0.065194)\n",
            "7. cons.price.idx (0.053372)\n",
            "8. age (0.044744)\n",
            "9. previous (0.025034)\n",
            "10. campaign (0.017224)\n",
            "11. poutcome_failure (0.016363)\n",
            "12. day_of_week_wed (0.015769)\n",
            "13. month_nov (0.014927)\n",
            "14. month_jun (0.014474)\n",
            "15. loan_yes (0.013814)\n",
            "16. month_mar (0.013082)\n",
            "17. contact_cellular (0.012080)\n",
            "18. day_of_week_fri (0.008207)\n",
            "19. contact_telephone (0.007968)\n",
            "20. education_professional.course (0.006273)\n",
            "21. day_of_week_mon (0.005442)\n",
            "22. month_sep (0.005422)\n",
            "23. housing_unknown (0.005376)\n",
            "24. day_of_week_thu (0.005311)\n",
            "25. default_yes (0.005295)\n",
            "26. job_admin. (0.005134)\n",
            "27. marital_married (0.005124)\n",
            "28. month_jul (0.005032)\n",
            "29. marital_divorced (0.004991)\n",
            "30. day_of_week_tue (0.004980)\n",
            "31. job_management (0.004866)\n",
            "32. education_basic.9y (0.004823)\n",
            "33. education_unknown (0.004708)\n",
            "34. job_services (0.004612)\n",
            "35. default_no (0.004599)\n",
            "36. month_oct (0.004518)\n",
            "37. y (0.004422)\n",
            "38. housing_yes (0.004387)\n",
            "39. job_student (0.004244)\n",
            "40. education_illiterate (0.004076)\n",
            "41. loan_unknown (0.004007)\n",
            "42. education_basic.6y (0.003719)\n",
            "43. job_unknown (0.003265)\n",
            "44. marital_unknown (0.003184)\n",
            "45. education_university.degree (0.003179)\n",
            "46. month_apr (0.002820)\n",
            "47. job_self-employed (0.002763)\n",
            "48. job_housemaid (0.002623)\n",
            "49. month_may (0.002505)\n",
            "50. month_dec (0.002504)\n",
            "51. job_retired (0.002414)\n",
            "52. education_basic.4y (0.002323)\n",
            "53. job_technician (0.002310)\n",
            "54. month_aug (0.001927)\n",
            "55. job_entrepreneur (0.001896)\n",
            "56. loan_no (0.001845)\n",
            "57. housing_no (0.001785)\n",
            "58. job_unemployed (0.001583)\n",
            "59. job_blue-collar (0.001563)\n",
            "60. marital_single (0.000677)\n",
            "61. education_high.school (0.000234)\n",
            "62. default_unknown (0.000000)\n"
          ],
          "name": "stdout"
        },
        {
          "output_type": "display_data",
          "data": {
            "image/png": "[encoded data removed]",
            "text/plain": [
              "<Figure size 1080x576 with 1 Axes>"
            ]
          },
          "metadata": {
            "tags": [],
            "needs_background": "light"
          }
        }
      ]
    }
  ]
}