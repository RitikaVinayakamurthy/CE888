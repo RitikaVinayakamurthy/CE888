{
  "nbformat": 4,
  "nbformat_minor": 0,
  "metadata": {
    "colab": {
      "name": "bank_classification.ipynb",
      "provenance": [],
      "collapsed_sections": [],
      "authorship_tag": "ABX9TyMUZryK2fAXGIuSRWLrflnX",
      "include_colab_link": true
    },
    "kernelspec": {
      "name": "python3",
      "display_name": "Python 3"
    }
  },
  "cells": [
    {
      "cell_type": "markdown",
      "metadata": {
        "id": "view-in-github",
        "colab_type": "text"
      },
      "source": [
        "<a href=\"https://colab.research.google.com/github/RitikaVinayakamurthy/CE888/blob/main/Lab3/bank_classification.ipynb\" target=\"_parent\"><img src=\"https://colab.research.google.com/assets/colab-badge.svg\" alt=\"Open In Colab\"/></a>"
      ]
    },
    {
      "cell_type": "code",
      "metadata": {
        "id": "RXLu5FgnhqmJ"
      },
      "source": [
        "#Loading the Libraries\r\n",
        "%matplotlib inline\r\n",
        "import matplotlib\r\n",
        "import numpy as np\r\n",
        "import matplotlib.pyplot as plt\r\n",
        "import pandas as pd\r\n",
        "import seaborn as sns\r\n",
        "import itertools\r\n",
        "\r\n",
        "from sklearn.tree import DecisionTreeRegressor\r\n",
        "from sklearn.ensemble import RandomForestClassifier, ExtraTreesClassifier\r\n",
        "from sklearn.model_selection import cross_val_score,cross_val_predict\r\n",
        "from sklearn.metrics import mean_squared_error as mse\r\n",
        "from sklearn.metrics import mean_absolute_error as mae\r\n",
        "from sklearn.metrics import accuracy_score as acc\r\n",
        "from sklearn.metrics import make_scorer, confusion_matrix\r\n",
        "from sklearn.dummy import DummyRegressor, DummyClassifier\r\n",
        "from sklearn.preprocessing import LabelEncoder\r\n",
        "\r\n"
      ],
      "execution_count": 2,
      "outputs": []
    },
    {
      "cell_type": "code",
      "metadata": {
        "id": "BVfQlyUuhvKC"
      },
      "source": [
        "#Loading the dataset\r\n",
        "df = pd.read_csv(\"https://raw.githubusercontent.com/albanda/CE888/master/lab3/bank-additional-full.csv\", delimiter = \";\")"
      ],
      "execution_count": 3,
      "outputs": []
    },
    {
      "cell_type": "code",
      "metadata": {
        "colab": {
          "base_uri": "https://localhost:8080/",
          "height": 224
        },
        "id": "MlR5m_SXmoOH",
        "outputId": "c947a6e7-02d2-4632-a5de-9e9acab6c612"
      },
      "source": [
        "df.head()"
      ],
      "execution_count": 4,
      "outputs": [
        {
          "output_type": "execute_result",
          "data": {
            "text/html": [
              "<div>\n",
              "<style scoped>\n",
              "    .dataframe tbody tr th:only-of-type {\n",
              "        vertical-align: middle;\n",
              "    }\n",
              "\n",
              "    .dataframe tbody tr th {\n",
              "        vertical-align: top;\n",
              "    }\n",
              "\n",
              "    .dataframe thead th {\n",
              "        text-align: right;\n",
              "    }\n",
              "</style>\n",
              "<table border=\"1\" class=\"dataframe\">\n",
              "  <thead>\n",
              "    <tr style=\"text-align: right;\">\n",
              "      <th></th>\n",
              "      <th>age</th>\n",
              "      <th>job</th>\n",
              "      <th>marital</th>\n",
              "      <th>education</th>\n",
              "      <th>default</th>\n",
              "      <th>housing</th>\n",
              "      <th>loan</th>\n",
              "      <th>contact</th>\n",
              "      <th>month</th>\n",
              "      <th>day_of_week</th>\n",
              "      <th>duration</th>\n",
              "      <th>campaign</th>\n",
              "      <th>pdays</th>\n",
              "      <th>previous</th>\n",
              "      <th>poutcome</th>\n",
              "      <th>emp.var.rate</th>\n",
              "      <th>cons.price.idx</th>\n",
              "      <th>cons.conf.idx</th>\n",
              "      <th>euribor3m</th>\n",
              "      <th>nr.employed</th>\n",
              "      <th>y</th>\n",
              "    </tr>\n",
              "  </thead>\n",
              "  <tbody>\n",
              "    <tr>\n",
              "      <th>0</th>\n",
              "      <td>56</td>\n",
              "      <td>housemaid</td>\n",
              "      <td>married</td>\n",
              "      <td>basic.4y</td>\n",
              "      <td>no</td>\n",
              "      <td>no</td>\n",
              "      <td>no</td>\n",
              "      <td>telephone</td>\n",
              "      <td>may</td>\n",
              "      <td>mon</td>\n",
              "      <td>261</td>\n",
              "      <td>1</td>\n",
              "      <td>999</td>\n",
              "      <td>0</td>\n",
              "      <td>nonexistent</td>\n",
              "      <td>1.1</td>\n",
              "      <td>93.994</td>\n",
              "      <td>-36.4</td>\n",
              "      <td>4.857</td>\n",
              "      <td>5191.0</td>\n",
              "      <td>no</td>\n",
              "    </tr>\n",
              "    <tr>\n",
              "      <th>1</th>\n",
              "      <td>57</td>\n",
              "      <td>services</td>\n",
              "      <td>married</td>\n",
              "      <td>high.school</td>\n",
              "      <td>unknown</td>\n",
              "      <td>no</td>\n",
              "      <td>no</td>\n",
              "      <td>telephone</td>\n",
              "      <td>may</td>\n",
              "      <td>mon</td>\n",
              "      <td>149</td>\n",
              "      <td>1</td>\n",
              "      <td>999</td>\n",
              "      <td>0</td>\n",
              "      <td>nonexistent</td>\n",
              "      <td>1.1</td>\n",
              "      <td>93.994</td>\n",
              "      <td>-36.4</td>\n",
              "      <td>4.857</td>\n",
              "      <td>5191.0</td>\n",
              "      <td>no</td>\n",
              "    </tr>\n",
              "    <tr>\n",
              "      <th>2</th>\n",
              "      <td>37</td>\n",
              "      <td>services</td>\n",
              "      <td>married</td>\n",
              "      <td>high.school</td>\n",
              "      <td>no</td>\n",
              "      <td>yes</td>\n",
              "      <td>no</td>\n",
              "      <td>telephone</td>\n",
              "      <td>may</td>\n",
              "      <td>mon</td>\n",
              "      <td>226</td>\n",
              "      <td>1</td>\n",
              "      <td>999</td>\n",
              "      <td>0</td>\n",
              "      <td>nonexistent</td>\n",
              "      <td>1.1</td>\n",
              "      <td>93.994</td>\n",
              "      <td>-36.4</td>\n",
              "      <td>4.857</td>\n",
              "      <td>5191.0</td>\n",
              "      <td>no</td>\n",
              "    </tr>\n",
              "    <tr>\n",
              "      <th>3</th>\n",
              "      <td>40</td>\n",
              "      <td>admin.</td>\n",
              "      <td>married</td>\n",
              "      <td>basic.6y</td>\n",
              "      <td>no</td>\n",
              "      <td>no</td>\n",
              "      <td>no</td>\n",
              "      <td>telephone</td>\n",
              "      <td>may</td>\n",
              "      <td>mon</td>\n",
              "      <td>151</td>\n",
              "      <td>1</td>\n",
              "      <td>999</td>\n",
              "      <td>0</td>\n",
              "      <td>nonexistent</td>\n",
              "      <td>1.1</td>\n",
              "      <td>93.994</td>\n",
              "      <td>-36.4</td>\n",
              "      <td>4.857</td>\n",
              "      <td>5191.0</td>\n",
              "      <td>no</td>\n",
              "    </tr>\n",
              "    <tr>\n",
              "      <th>4</th>\n",
              "      <td>56</td>\n",
              "      <td>services</td>\n",
              "      <td>married</td>\n",
              "      <td>high.school</td>\n",
              "      <td>no</td>\n",
              "      <td>no</td>\n",
              "      <td>yes</td>\n",
              "      <td>telephone</td>\n",
              "      <td>may</td>\n",
              "      <td>mon</td>\n",
              "      <td>307</td>\n",
              "      <td>1</td>\n",
              "      <td>999</td>\n",
              "      <td>0</td>\n",
              "      <td>nonexistent</td>\n",
              "      <td>1.1</td>\n",
              "      <td>93.994</td>\n",
              "      <td>-36.4</td>\n",
              "      <td>4.857</td>\n",
              "      <td>5191.0</td>\n",
              "      <td>no</td>\n",
              "    </tr>\n",
              "  </tbody>\n",
              "</table>\n",
              "</div>"
            ],
            "text/plain": [
              "   age        job  marital  ... euribor3m nr.employed   y\n",
              "0   56  housemaid  married  ...     4.857      5191.0  no\n",
              "1   57   services  married  ...     4.857      5191.0  no\n",
              "2   37   services  married  ...     4.857      5191.0  no\n",
              "3   40     admin.  married  ...     4.857      5191.0  no\n",
              "4   56   services  married  ...     4.857      5191.0  no\n",
              "\n",
              "[5 rows x 21 columns]"
            ]
          },
          "metadata": {
            "tags": []
          },
          "execution_count": 4
        }
      ]
    },
    {
      "cell_type": "code",
      "metadata": {
        "colab": {
          "base_uri": "https://localhost:8080/"
        },
        "id": "hBicYfz7n91G",
        "outputId": "030e9296-9fa0-4116-81fa-9e9f890c16c4"
      },
      "source": [
        "df.dtypes"
      ],
      "execution_count": 5,
      "outputs": [
        {
          "output_type": "execute_result",
          "data": {
            "text/plain": [
              "age                 int64\n",
              "job                object\n",
              "marital            object\n",
              "education          object\n",
              "default            object\n",
              "housing            object\n",
              "loan               object\n",
              "contact            object\n",
              "month              object\n",
              "day_of_week        object\n",
              "duration            int64\n",
              "campaign            int64\n",
              "pdays               int64\n",
              "previous            int64\n",
              "poutcome           object\n",
              "emp.var.rate      float64\n",
              "cons.price.idx    float64\n",
              "cons.conf.idx     float64\n",
              "euribor3m         float64\n",
              "nr.employed       float64\n",
              "y                  object\n",
              "dtype: object"
            ]
          },
          "metadata": {
            "tags": []
          },
          "execution_count": 5
        }
      ]
    },
    {
      "cell_type": "code",
      "metadata": {
        "id": "_o1YrlFSnEQh"
      },
      "source": [
        "# converting label into numbers\r\n",
        "df[[\"y\"]] = df[[\"y\"]].apply(LabelEncoder().fit_transform)"
      ],
      "execution_count": 6,
      "outputs": []
    },
    {
      "cell_type": "code",
      "metadata": {
        "colab": {
          "base_uri": "https://localhost:8080/"
        },
        "id": "3rGkNI1TPnbM",
        "outputId": "24f009ce-4278-4939-863e-ddd5326fd3fc"
      },
      "source": [
        "#Creating dummies to convert the categorical columns to numerical columns\r\n",
        "df_dummies = pd.get_dummies(df)\r\n",
        "print(df_dummies)\r\n",
        "\r\n"
      ],
      "execution_count": 7,
      "outputs": [
        {
          "output_type": "stream",
          "text": [
            "       age  duration  ...  poutcome_nonexistent  poutcome_success\n",
            "0       56       261  ...                     1                 0\n",
            "1       57       149  ...                     1                 0\n",
            "2       37       226  ...                     1                 0\n",
            "3       40       151  ...                     1                 0\n",
            "4       56       307  ...                     1                 0\n",
            "...    ...       ...  ...                   ...               ...\n",
            "41183   73       334  ...                     1                 0\n",
            "41184   46       383  ...                     1                 0\n",
            "41185   56       189  ...                     1                 0\n",
            "41186   44       442  ...                     1                 0\n",
            "41187   74       239  ...                     0                 0\n",
            "\n",
            "[41188 rows x 64 columns]\n"
          ],
          "name": "stdout"
        }
      ]
    },
    {
      "cell_type": "code",
      "metadata": {
        "id": "CuTxoZVkS2b0"
      },
      "source": [
        "#Dropping the duration column\r\n",
        "df_dummies.drop(['duration'],axis = 1, inplace = True) "
      ],
      "execution_count": 8,
      "outputs": []
    },
    {
      "cell_type": "code",
      "metadata": {
        "colab": {
          "base_uri": "https://localhost:8080/"
        },
        "id": "ESsy8NCOUKT0",
        "outputId": "59353932-2739-4203-e81e-ddd838d988ea"
      },
      "source": [
        "df_dummies.columns"
      ],
      "execution_count": 9,
      "outputs": [
        {
          "output_type": "execute_result",
          "data": {
            "text/plain": [
              "Index(['age', 'campaign', 'pdays', 'previous', 'emp.var.rate',\n",
              "       'cons.price.idx', 'cons.conf.idx', 'euribor3m', 'nr.employed', 'y',\n",
              "       'job_admin.', 'job_blue-collar', 'job_entrepreneur', 'job_housemaid',\n",
              "       'job_management', 'job_retired', 'job_self-employed', 'job_services',\n",
              "       'job_student', 'job_technician', 'job_unemployed', 'job_unknown',\n",
              "       'marital_divorced', 'marital_married', 'marital_single',\n",
              "       'marital_unknown', 'education_basic.4y', 'education_basic.6y',\n",
              "       'education_basic.9y', 'education_high.school', 'education_illiterate',\n",
              "       'education_professional.course', 'education_university.degree',\n",
              "       'education_unknown', 'default_no', 'default_unknown', 'default_yes',\n",
              "       'housing_no', 'housing_unknown', 'housing_yes', 'loan_no',\n",
              "       'loan_unknown', 'loan_yes', 'contact_cellular', 'contact_telephone',\n",
              "       'month_apr', 'month_aug', 'month_dec', 'month_jul', 'month_jun',\n",
              "       'month_mar', 'month_may', 'month_nov', 'month_oct', 'month_sep',\n",
              "       'day_of_week_fri', 'day_of_week_mon', 'day_of_week_thu',\n",
              "       'day_of_week_tue', 'day_of_week_wed', 'poutcome_failure',\n",
              "       'poutcome_nonexistent', 'poutcome_success'],\n",
              "      dtype='object')"
            ]
          },
          "metadata": {
            "tags": []
          },
          "execution_count": 9
        }
      ]
    },
    {
      "cell_type": "code",
      "metadata": {
        "colab": {
          "base_uri": "https://localhost:8080/"
        },
        "id": "dE-4hpQkTb5u",
        "outputId": "cfcd429f-31fa-4468-db92-2d6d87359cd9"
      },
      "source": [
        "#Checking for missing values\r\n",
        "df_dummies.isnull().sum()   \r\n",
        "\r\n",
        "#Since there are no missing values no rows are dropped"
      ],
      "execution_count": 10,
      "outputs": [
        {
          "output_type": "execute_result",
          "data": {
            "text/plain": [
              "age                     0\n",
              "campaign                0\n",
              "pdays                   0\n",
              "previous                0\n",
              "emp.var.rate            0\n",
              "                       ..\n",
              "day_of_week_tue         0\n",
              "day_of_week_wed         0\n",
              "poutcome_failure        0\n",
              "poutcome_nonexistent    0\n",
              "poutcome_success        0\n",
              "Length: 63, dtype: int64"
            ]
          },
          "metadata": {
            "tags": []
          },
          "execution_count": 10
        }
      ]
    },
    {
      "cell_type": "code",
      "metadata": {
        "colab": {
          "base_uri": "https://localhost:8080/",
          "height": 279
        },
        "id": "dlPojNx6Uvbx",
        "outputId": "c268a5fb-8f6d-4258-b278-529a1e5efae8"
      },
      "source": [
        "#Histogram plot of the label\r\n",
        "sns_plot = sns.histplot(df_dummies['y'])"
      ],
      "execution_count": 11,
      "outputs": [
        {
          "output_type": "display_data",
          "data": {
            "image/png": "[encoded data removed]",
            "text/plain": [
              "<Figure size 432x288 with 1 Axes>"
            ]
          },
          "metadata": {
            "tags": [],
            "needs_background": "light"
          }
        }
      ]
    },
    {
      "cell_type": "code",
      "metadata": {
        "colab": {
          "base_uri": "https://localhost:8080/"
        },
        "id": "nBJgxvx5WJN2",
        "outputId": "508b8272-f1d4-4eb2-bb92-ce334a5a03ab"
      },
      "source": [
        "#Calculating the imbalance in the dataset\r\n",
        "values=df_dummies['y'].value_counts()\r\n",
        "values"
      ],
      "execution_count": 12,
      "outputs": [
        {
          "output_type": "execute_result",
          "data": {
            "text/plain": [
              "0    36548\n",
              "1     4640\n",
              "Name: y, dtype: int64"
            ]
          },
          "metadata": {
            "tags": []
          },
          "execution_count": 12
        }
      ]
    },
    {
      "cell_type": "code",
      "metadata": {
        "colab": {
          "base_uri": "https://localhost:8080/"
        },
        "id": "uj2mIOIAZmIf",
        "outputId": "c57a1edb-87a4-441c-89f6-cfc78f1be7de"
      },
      "source": [
        "values[0]"
      ],
      "execution_count": 13,
      "outputs": [
        {
          "output_type": "execute_result",
          "data": {
            "text/plain": [
              "36548"
            ]
          },
          "metadata": {
            "tags": []
          },
          "execution_count": 13
        }
      ]
    },
    {
      "cell_type": "code",
      "metadata": {
        "colab": {
          "base_uri": "https://localhost:8080/"
        },
        "id": "27D1sgUWZrcu",
        "outputId": "90ca5a45-b96f-44fb-cbac-266fecb7cd6b"
      },
      "source": [
        "values[1]"
      ],
      "execution_count": 14,
      "outputs": [
        {
          "output_type": "execute_result",
          "data": {
            "text/plain": [
              "4640"
            ]
          },
          "metadata": {
            "tags": []
          },
          "execution_count": 14
        }
      ]
    },
    {
      "cell_type": "code",
      "metadata": {
        "colab": {
          "base_uri": "https://localhost:8080/"
        },
        "id": "TCKa12xwY8ee",
        "outputId": "bd1f8b2a-d082-4647-ad01-2bf50c43e161"
      },
      "source": [
        "Imbalance=(values[1]/values[0])\r\n",
        "Imbalance\r\n"
      ],
      "execution_count": 15,
      "outputs": [
        {
          "output_type": "execute_result",
          "data": {
            "text/plain": [
              "0.126956331399803"
            ]
          },
          "metadata": {
            "tags": []
          },
          "execution_count": 15
        }
      ]
    },
    {
      "cell_type": "code",
      "metadata": {
        "colab": {
          "base_uri": "https://localhost:8080/"
        },
        "id": "ik3PtBHP1PE0",
        "outputId": "e7c30eca-d4d6-41f8-8018-0f796aa85f46"
      },
      "source": [
        "Imbalance_1=(values[1]/values)\r\n",
        "Imbalance_1\r\n"
      ],
      "execution_count": 19,
      "outputs": [
        {
          "output_type": "execute_result",
          "data": {
            "text/plain": [
              "0    0.126956\n",
              "1    1.000000\n",
              "Name: y, dtype: float64"
            ]
          },
          "metadata": {
            "tags": []
          },
          "execution_count": 19
        }
      ]
    },
    {
      "cell_type": "code",
      "metadata": {
        "id": "G_dsvgylc8vi"
      },
      "source": [
        "#split dataset in features and target variable\r\n",
        "X = df_dummies.drop('y',axis=1) # Features\r\n",
        "y = df_dummies.y # Target variable"
      ],
      "execution_count": 20,
      "outputs": []
    },
    {
      "cell_type": "code",
      "metadata": {
        "id": "kiZdnLKxaT3U"
      },
      "source": [
        "#Spliting the data into test and train set\r\n",
        "from sklearn.model_selection import train_test_split\r\n",
        "X_train, X_test, y_train, y_test = train_test_split(X, y,stratify=y,test_size=0.20,random_state=50)"
      ],
      "execution_count": 21,
      "outputs": []
    },
    {
      "cell_type": "code",
      "metadata": {
        "colab": {
          "base_uri": "https://localhost:8080/"
        },
        "id": "w092Tw40brFM",
        "outputId": "4bdcdd72-f184-4251-d30b-2404caf20107"
      },
      "source": [
        "from sklearn.metrics import f1_score\r\n",
        "# Fitting Random Forest Classifier to the dataset \r\n",
        "#Create a Random Forest Classifier\r\n",
        "RF_Classifier = RandomForestClassifier(n_estimators=100,max_depth=3)\r\n",
        "\r\n",
        "#Train the model using the training sets\r\n",
        "RF_Classifier.fit(X_train, y_train)\r\n",
        "\r\n",
        "#Predict the response for test dataset\r\n",
        "y_pred = RF_Classifier.predict(X_test)\r\n",
        "\r\n",
        "print(\"F1 score:\", f1_score(y_test, y_pred))"
      ],
      "execution_count": 36,
      "outputs": [
        {
          "output_type": "stream",
          "text": [
            "F1 score: 0.2908777969018933\n"
          ],
          "name": "stdout"
        }
      ]
    },
    {
      "cell_type": "code",
      "metadata": {
        "colab": {
          "base_uri": "https://localhost:8080/"
        },
        "id": "-GqWFigalP6Z",
        "outputId": "8bfbee41-d27a-48c1-8567-ac7c21a44eda"
      },
      "source": [
        "from sklearn.metrics import f1_score\r\n",
        "#Checking the cross validation accuracy scores\r\n",
        "score=cross_val_score(RF_Classifier, X_train, y_train, cv=10)\r\n",
        "print('cross_val_score=',score)\r\n",
        "predictions = cross_val_predict(RF_Classifier, X_train, y_train, cv=10)\r\n",
        "f1_score_clf = f1_score(y_train,predictions)\r\n",
        "print('Cross-Predicted f1_score:', f1_score_clf) #use f1_score"
      ],
      "execution_count": 37,
      "outputs": [
        {
          "output_type": "stream",
          "text": [
            "cross_val_score= [0.89408194 0.90075873 0.89499241 0.89681335 0.89499241 0.90197269\n",
            " 0.90622155 0.89742033 0.8983308  0.89590288]\n",
            "Cross-Predicted f1_score: 0.24352914697276618\n"
          ],
          "name": "stdout"
        }
      ]
    },
    {
      "cell_type": "code",
      "metadata": {
        "colab": {
          "base_uri": "https://localhost:8080/"
        },
        "id": "_YM8UC9QegqU",
        "outputId": "00282a3b-22b7-499e-ebf3-1e69b327fa7c"
      },
      "source": [
        "dummy_clf = DummyClassifier(strategy='stratified')\r\n",
        "dummy_clf.fit(X_train, y_train)\r\n",
        "print(\"Dummy f1_score: \" , f1_score(y_test, dummy_clf.predict(X_test)))"
      ],
      "execution_count": 38,
      "outputs": [
        {
          "output_type": "stream",
          "text": [
            "Dummy f1_score:  0.12172984516817939\n"
          ],
          "name": "stdout"
        }
      ]
    },
    {
      "cell_type": "code",
      "metadata": {
        "id": "fe0Vby83t6rY"
      },
      "source": [
        "from sklearn.model_selection import GridSearchCV\r\n",
        "#Using the Grid search CV we can tune the hyperparameters\r\n",
        "# defining parameter range \r\n",
        "param_grid = { \r\n",
        "    'n_estimators': [50,100,150,200,250,300,350,400], #2 diff numbers\r\n",
        "    'max_features': ['auto'],\r\n",
        "    'max_depth' : [5,10,15,20,25,30],#15\r\n",
        "    'criterion' :['gini', 'entropy']#not needed\r\n",
        "}"
      ],
      "execution_count": 87,
      "outputs": []
    },
    {
      "cell_type": "code",
      "metadata": {
        "colab": {
          "base_uri": "https://localhost:8080/"
        },
        "id": "mc6duUABvYyF",
        "outputId": "835735c8-1a22-49e4-d0d4-877d030a43f6"
      },
      "source": [
        "grid = GridSearchCV(estimator=RF_Classifier, param_grid=param_grid, cv= 5)\r\n",
        "# fitting the model for grid search \r\n",
        "grid.fit(X_train, y_train) \r\n"
      ],
      "execution_count": 91,
      "outputs": [
        {
          "output_type": "execute_result",
          "data": {
            "text/plain": [
              "GridSearchCV(cv=5, error_score=nan,\n",
              "             estimator=RandomForestClassifier(bootstrap=True, ccp_alpha=0.0,\n",
              "                                              class_weight=None,\n",
              "                                              criterion='gini', max_depth=3,\n",
              "                                              max_features='auto',\n",
              "                                              max_leaf_nodes=None,\n",
              "                                              max_samples=None,\n",
              "                                              min_impurity_decrease=0.0,\n",
              "                                              min_impurity_split=None,\n",
              "                                              min_samples_leaf=1,\n",
              "                                              min_samples_split=2,\n",
              "                                              min_weight_fraction_leaf=0.0,\n",
              "                                              n_estimators=100, n_jobs=None,\n",
              "                                              oob_score=False,\n",
              "                                              random_state=None, verbose=0,\n",
              "                                              warm_start=False),\n",
              "             iid='deprecated', n_jobs=None,\n",
              "             param_grid={'criterion': ['gini', 'entropy'],\n",
              "                         'max_depth': [5, 10, 15, 20, 25, 30],\n",
              "                         'max_features': ['auto'],\n",
              "                         'n_estimators': [50, 100, 150, 200, 250, 300, 350,\n",
              "                                          400]},\n",
              "             pre_dispatch='2*n_jobs', refit=True, return_train_score=False,\n",
              "             scoring=None, verbose=0)"
            ]
          },
          "metadata": {
            "tags": []
          },
          "execution_count": 91
        }
      ]
    },
    {
      "cell_type": "code",
      "metadata": {
        "colab": {
          "base_uri": "https://localhost:8080/"
        },
        "id": "lRVAaSIhwMAX",
        "outputId": "523cac1a-ddb3-4436-a728-fdbb0ded482a"
      },
      "source": [
        "# print best parameter after tuning \r\n",
        "print(grid.best_params_)"
      ],
      "execution_count": 92,
      "outputs": [
        {
          "output_type": "stream",
          "text": [
            "{'criterion': 'entropy', 'max_depth': 10, 'max_features': 'auto', 'n_estimators': 200}\n"
          ],
          "name": "stdout"
        }
      ]
    },
    {
      "cell_type": "code",
      "metadata": {
        "colab": {
          "base_uri": "https://localhost:8080/"
        },
        "id": "ofwKjFWo_Jjs",
        "outputId": "4b1bf91e-cc1d-4503-c787-7830096252aa"
      },
      "source": [
        "# Fitting Random Forest Classifier to the dataset after hyperparameter tuning\r\n",
        "#Create a Random Forest Classifier\r\n",
        "RF_Classifier = RandomForestClassifier(n_estimators=200,max_depth=10,max_features='auto',criterion='entropy')\r\n",
        "\r\n",
        "#Train the model using the training sets\r\n",
        "RF_Classifier.fit(X_train, y_train)\r\n",
        "\r\n",
        "#Predict the response for test dataset\r\n",
        "y_pred = RF_Classifier.predict(X_test)\r\n",
        "\r\n",
        "print(\"F1 score:\", f1_score(y_test, y_pred,average='weighted'))"
      ],
      "execution_count": 26,
      "outputs": [
        {
          "output_type": "stream",
          "text": [
            "F1 score: 0.8784445847084498\n"
          ],
          "name": "stdout"
        }
      ]
    },
    {
      "cell_type": "code",
      "metadata": {
        "colab": {
          "base_uri": "https://localhost:8080/"
        },
        "id": "ShyF2TKr_RNd",
        "outputId": "26af9af4-3d59-46f2-c938-499e63538941"
      },
      "source": [
        "from sklearn.metrics import f1_score\r\n",
        "#Checking the cross validation scores\r\n",
        "score=cross_val_score(RF_Classifier, X_train, y_train, cv=10,)\r\n",
        "print('cross_val_score=',score)\r\n",
        "predictions = cross_val_predict(RF_Classifier, X_train, y_train, cv=10)\r\n",
        "f1_score_clf = f1_score(y_train,predictions,average='weighted')\r\n",
        "print('Cross-Predicted f1_score:', f1_score_clf) #use f1_score\r\n"
      ],
      "execution_count": 27,
      "outputs": [
        {
          "output_type": "stream",
          "text": [
            "cross_val_score= [0.89954476 0.90288316 0.89742033 0.90136571 0.89195751 0.90349014\n",
            " 0.91198786 0.8983308  0.90075873 0.89954476]\n",
            "Cross-Predicted f1_score: 0.8767368365888595\n"
          ],
          "name": "stdout"
        }
      ]
    },
    {
      "cell_type": "code",
      "metadata": {
        "id": "fq3YTuZsrU6s"
      },
      "source": [
        "#Assigning the column names to features\r\n",
        "features=['age', 'campaign', 'pdays', 'previous', 'emp.var.rate',\r\n",
        "       'cons.price.idx', 'cons.conf.idx', 'euribor3m', 'nr.employed', 'y',\r\n",
        "       'job_admin.', 'job_blue-collar', 'job_entrepreneur', 'job_housemaid',\r\n",
        "       'job_management', 'job_retired', 'job_self-employed', 'job_services',\r\n",
        "       'job_student', 'job_technician', 'job_unemployed', 'job_unknown',\r\n",
        "       'marital_divorced', 'marital_married', 'marital_single',\r\n",
        "       'marital_unknown', 'education_basic.4y', 'education_basic.6y',\r\n",
        "       'education_basic.9y', 'education_high.school', 'education_illiterate',\r\n",
        "       'education_professional.course', 'education_university.degree',\r\n",
        "       'education_unknown', 'default_no', 'default_unknown', 'default_yes',\r\n",
        "       'housing_no', 'housing_unknown', 'housing_yes', 'loan_no',\r\n",
        "       'loan_unknown', 'loan_yes', 'contact_cellular', 'contact_telephone',\r\n",
        "       'month_apr', 'month_aug', 'month_dec', 'month_jul', 'month_jun',\r\n",
        "       'month_mar', 'month_may', 'month_nov', 'month_oct', 'month_sep',\r\n",
        "       'day_of_week_fri', 'day_of_week_mon', 'day_of_week_thu',\r\n",
        "       'day_of_week_tue', 'day_of_week_wed', 'poutcome_failure',\r\n",
        "       'poutcome_nonexistent', 'poutcome_success']"
      ],
      "execution_count": 28,
      "outputs": []
    },
    {
      "cell_type": "code",
      "metadata": {
        "colab": {
          "base_uri": "https://localhost:8080/",
          "height": 1000
        },
        "id": "7_tgLApE_9bT",
        "outputId": "7c5c50a9-337c-47af-9a1b-735d02d16c3f"
      },
      "source": [
        "#Feature importance\r\n",
        "importances = RF_Classifier.feature_importances_\r\n",
        "std = np.std([tree.feature_importances_ for tree in RF_Classifier.estimators_],\r\n",
        "             axis=0)\r\n",
        "indices = np.argsort(importances)[::-1]\r\n",
        "print(indices)\r\n",
        "\r\n",
        "# Print the feature ranking\r\n",
        "print(\"Feature ranking:\")\r\n",
        "\r\n",
        "for f in range(X.shape[1]):\r\n",
        "    print(\"%d. %s (%f)\" % (f + 1, features[indices[f]],  importances[indices[f]]))\r\n",
        "\r\n",
        "# Plot the feature importances of the forest\r\n",
        "fig = plt.figure()\r\n",
        "plt.title(\"Feature importances\")\r\n",
        "plt.bar(range(X.shape[1]), importances[indices],\r\n",
        "       color=\"r\", yerr=std[indices], align=\"center\")\r\n",
        "plt.xticks(range(X.shape[1]), np.array(features)[indices])\r\n",
        "plt.xlim([-1, X.shape[1]])\r\n",
        "plt.ylim([0, None])\r\n",
        "\r\n",
        "fig.set_size_inches(15, 8)\r\n",
        "\r\n",
        "# plt.savefig(\"importances.pdf\", bbox_inches='tight')\r\n",
        "\r\n",
        "# We see the top 3 are:\r\n",
        "#1. nr.employed (0.156643)\r\n",
        "#2. euribor3m (0.156275)\r\n",
        "#3. emp.var.rate (0.081952)"
      ],
      "execution_count": 29,
      "outputs": [
        {
          "output_type": "stream",
          "text": [
            "[ 8  7  4  2  6  5 61  0  3  1 42 43 60 50 52 59 49 44 55 33 34 48 10 31\n",
            " 56 54 57 23 36 22 38 58 28 41  9 14 18 39 17 27 30 25 45 21 32 53 16 13\n",
            " 51 15 47 12 26 19 37 11 40 20 46 24 29 35]\n",
            "Feature ranking:\n",
            "1. nr.employed (0.156643)\n",
            "2. euribor3m (0.156275)\n",
            "3. emp.var.rate (0.081952)\n",
            "4. pdays (0.073585)\n",
            "5. cons.conf.idx (0.066330)\n",
            "6. cons.price.idx (0.057201)\n",
            "7. poutcome_nonexistent (0.045805)\n",
            "8. age (0.039820)\n",
            "9. previous (0.022040)\n",
            "10. campaign (0.018609)\n",
            "11. loan_yes (0.018387)\n",
            "12. contact_cellular (0.017732)\n",
            "13. poutcome_failure (0.017051)\n",
            "14. month_mar (0.016238)\n",
            "15. month_nov (0.013568)\n",
            "16. day_of_week_wed (0.013096)\n",
            "17. month_jun (0.012345)\n",
            "18. contact_telephone (0.009866)\n",
            "19. day_of_week_fri (0.008319)\n",
            "20. education_unknown (0.007642)\n",
            "21. default_no (0.006869)\n",
            "22. month_jul (0.006504)\n",
            "23. job_admin. (0.006390)\n",
            "24. education_professional.course (0.006144)\n",
            "25. day_of_week_mon (0.005290)\n",
            "26. month_sep (0.005225)\n",
            "27. day_of_week_thu (0.005138)\n",
            "28. marital_married (0.005088)\n",
            "29. default_yes (0.004840)\n",
            "30. marital_divorced (0.004806)\n",
            "31. housing_unknown (0.004722)\n",
            "32. day_of_week_tue (0.004627)\n",
            "33. education_basic.9y (0.004364)\n",
            "34. loan_unknown (0.004172)\n",
            "35. y (0.004159)\n",
            "36. job_management (0.004115)\n",
            "37. job_student (0.004095)\n",
            "38. housing_yes (0.003810)\n",
            "39. job_services (0.003637)\n",
            "40. education_basic.6y (0.003628)\n",
            "41. education_illiterate (0.003565)\n",
            "42. marital_unknown (0.003476)\n",
            "43. month_apr (0.003406)\n",
            "44. job_unknown (0.003276)\n",
            "45. education_university.degree (0.003147)\n",
            "46. month_oct (0.003036)\n",
            "47. job_self-employed (0.002999)\n",
            "48. job_housemaid (0.002960)\n",
            "49. month_may (0.002839)\n",
            "50. job_retired (0.002483)\n",
            "51. month_dec (0.002478)\n",
            "52. job_entrepreneur (0.002449)\n",
            "53. education_basic.4y (0.002350)\n",
            "54. job_technician (0.002259)\n",
            "55. housing_no (0.001872)\n",
            "56. job_blue-collar (0.001761)\n",
            "57. loan_no (0.001699)\n",
            "58. job_unemployed (0.001613)\n",
            "59. month_aug (0.001253)\n",
            "60. marital_single (0.000745)\n",
            "61. education_high.school (0.000200)\n",
            "62. default_unknown (0.000001)\n"
          ],
          "name": "stdout"
        },
        {
          "output_type": "display_data",
          "data": {
            "image/png": "[encoded data removed]",
            "text/plain": [
              "<Figure size 1080x576 with 1 Axes>"
            ]
          },
          "metadata": {
            "tags": [],
            "needs_background": "light"
          }
        }
      ]
    },
    {
      "cell_type": "markdown",
      "metadata": {
        "id": "hYtejEGTOfJh"
      },
      "source": [
        "## For Moodle Quiz\r\n"
      ]
    },
    {
      "cell_type": "code",
      "metadata": {
        "colab": {
          "base_uri": "https://localhost:8080/"
        },
        "id": "VgCw3xDcOpPc",
        "outputId": "07d92179-13c4-44ff-c9b8-acec09d193af"
      },
      "source": [
        "#For n_estimators=400,max_depth=6\r\n",
        "from sklearn.metrics import f1_score\r\n",
        "# Fitting Random Forest Classifier to the dataset \r\n",
        "#Create a Random Forest Classifier\r\n",
        "RF_Classifier = RandomForestClassifier(n_estimators=400,max_depth=6)\r\n",
        "\r\n",
        "#Train the model using the training sets\r\n",
        "RF_Classifier.fit(X_train, y_train)\r\n",
        "\r\n",
        "#Predict the response for test dataset\r\n",
        "y_pred = RF_Classifier.predict(X_test)\r\n",
        "\r\n",
        "print(\"F1 score:\", f1_score(y_test, y_pred))"
      ],
      "execution_count": 39,
      "outputs": [
        {
          "output_type": "stream",
          "text": [
            "F1 score: 0.30988274706867674\n"
          ],
          "name": "stdout"
        }
      ]
    },
    {
      "cell_type": "code",
      "metadata": {
        "colab": {
          "base_uri": "https://localhost:8080/"
        },
        "id": "pBAvF5U-O-ot",
        "outputId": "6df4c953-24d7-4388-cae1-9064722f0592"
      },
      "source": [
        "from sklearn.metrics import f1_score\r\n",
        "#Checking the cross validation accuracy scores\r\n",
        "score=cross_val_score(RF_Classifier, X_train, y_train, cv=10)\r\n",
        "print('cross_val_score=',score)\r\n",
        "predictions = cross_val_predict(RF_Classifier, X_train, y_train, cv=10)\r\n",
        "f1_score_clf = f1_score(y_train,predictions)\r\n",
        "print('Cross-Predicted f1_score:', f1_score_clf) #use f1_score"
      ],
      "execution_count": 40,
      "outputs": [
        {
          "output_type": "stream",
          "text": [
            "cross_val_score= [0.89559939 0.90227618 0.89408194 0.90106222 0.8952959  0.90288316\n",
            " 0.90986343 0.89681335 0.89893778 0.89742033]\n",
            "Cross-Predicted f1_score: 0.282067921263249\n"
          ],
          "name": "stdout"
        }
      ]
    },
    {
      "cell_type": "code",
      "metadata": {
        "colab": {
          "base_uri": "https://localhost:8080/"
        },
        "id": "OO9pE3zAQfFf",
        "outputId": "1f04a879-f08e-42de-9c44-b7d1c0115069"
      },
      "source": [
        "#For n_estimators=100,max_depth=8,random_state=60\r\n",
        "from sklearn.metrics import f1_score\r\n",
        "# Fitting Random Forest Classifier to the dataset \r\n",
        "#Create a Random Forest Classifier\r\n",
        "RF_Classifier = RandomForestClassifier(n_estimators=100,max_depth=8,random_state=60)\r\n",
        "\r\n",
        "#Train the model using the training sets\r\n",
        "RF_Classifier.fit(X_train, y_train)\r\n",
        "\r\n",
        "#Predict the response for test dataset\r\n",
        "y_pred = RF_Classifier.predict(X_test)\r\n",
        "\r\n",
        "print(\"F1 score:\", f1_score(y_test, y_pred))"
      ],
      "execution_count": 41,
      "outputs": [
        {
          "output_type": "stream",
          "text": [
            "F1 score: 0.3360522022838499\n"
          ],
          "name": "stdout"
        }
      ]
    },
    {
      "cell_type": "code",
      "metadata": {
        "colab": {
          "base_uri": "https://localhost:8080/"
        },
        "id": "nk2FNvpZQiDy",
        "outputId": "41915d6f-79d7-4460-a7a6-f7d57d7a31c9"
      },
      "source": [
        "from sklearn.metrics import f1_score\r\n",
        "#Checking the cross validation accuracy scores\r\n",
        "score=cross_val_score(RF_Classifier, X_train, y_train, cv=10)\r\n",
        "print('cross_val_score=',score)\r\n",
        "predictions = cross_val_predict(RF_Classifier, X_train, y_train, cv=10)\r\n",
        "f1_score_clf = f1_score(y_train,predictions)\r\n",
        "print('Cross-Predicted f1_score:', f1_score_clf) #use f1_score"
      ],
      "execution_count": 42,
      "outputs": [
        {
          "output_type": "stream",
          "text": [
            "cross_val_score= [0.89802731 0.90349014 0.89650986 0.90075873 0.89408194 0.90440061\n",
            " 0.91047041 0.89711684 0.89893778 0.89650986]\n",
            "Cross-Predicted f1_score: 0.30388841927303467\n"
          ],
          "name": "stdout"
        }
      ]
    },
    {
      "cell_type": "code",
      "metadata": {
        "colab": {
          "base_uri": "https://localhost:8080/"
        },
        "id": "pBvrNcmvSAbi",
        "outputId": "8775b577-7f7a-4fd3-b34f-6cdf10418e4d"
      },
      "source": [
        "#For n_estimators=100,max_depth=12,random_state=60\r\n",
        "from sklearn.metrics import f1_score\r\n",
        "# Fitting Random Forest Classifier to the dataset \r\n",
        "#Create a Random Forest Classifier\r\n",
        "RF_Classifier = RandomForestClassifier(n_estimators=100,max_depth=12,random_state=60)\r\n",
        "\r\n",
        "#Train the model using the training sets\r\n",
        "RF_Classifier.fit(X_train, y_train)\r\n",
        "\r\n",
        "#Predict the response for test dataset\r\n",
        "y_pred = RF_Classifier.predict(X_test)\r\n",
        "\r\n",
        "print(\"F1 score:\", f1_score(y_test, y_pred))"
      ],
      "execution_count": 43,
      "outputs": [
        {
          "output_type": "stream",
          "text": [
            "F1 score: 0.37337413925019125\n"
          ],
          "name": "stdout"
        }
      ]
    },
    {
      "cell_type": "code",
      "metadata": {
        "colab": {
          "base_uri": "https://localhost:8080/",
          "height": 1000
        },
        "id": "RkgCHXcZR7va",
        "outputId": "286db156-36cb-4488-8b07-ebfd1cc2ed6d"
      },
      "source": [
        "#Feature importance for n_estimators=100,max_depth=12,random_state=60\r\n",
        "importances = RF_Classifier.feature_importances_\r\n",
        "std = np.std([tree.feature_importances_ for tree in RF_Classifier.estimators_],\r\n",
        "             axis=0)\r\n",
        "indices = np.argsort(importances)[::-1]\r\n",
        "print(indices)\r\n",
        "\r\n",
        "# Print the feature ranking\r\n",
        "print(\"Feature ranking:\")\r\n",
        "\r\n",
        "for f in range(X.shape[1]):\r\n",
        "    print(\"%d. %s (%f)\" % (f + 1, features[indices[f]],  importances[indices[f]]))\r\n",
        "\r\n",
        "# Plot the feature importances of the forest\r\n",
        "fig = plt.figure()\r\n",
        "plt.title(\"Feature importances\")\r\n",
        "plt.bar(range(X.shape[1]), importances[indices],\r\n",
        "       color=\"r\", yerr=std[indices], align=\"center\")\r\n",
        "plt.xticks(range(X.shape[1]), np.array(features)[indices])\r\n",
        "plt.xlim([-1, X.shape[1]])\r\n",
        "plt.ylim([0, None])\r\n",
        "\r\n",
        "fig.set_size_inches(15, 8)\r\n",
        "\r\n",
        "# plt.savefig(\"importances.pdf\", bbox_inches='tight')\r\n",
        "\r\n",
        "# We see the top 3 are:\r\n",
        "#1. euribor3m (0.148393)\r\n",
        "#2. nr.employed (0.113660)\r\n",
        "#3. poutcome_nonexistent (0.076603)"
      ],
      "execution_count": 44,
      "outputs": [
        {
          "output_type": "stream",
          "text": [
            "[ 7  8 61  4  2  0  6  5  3  1 59 49 43 52 60 42 50 55 31 38 36 56 23 44\n",
            " 54 39 57 28 58 10 22  9 41 18 14 33 30 27 17 48 25 21 13 34 53 32 16 26\n",
            " 19 15 45 51 47 40 12 11 37 20 46 24 29 35]\n",
            "Feature ranking:\n",
            "1. euribor3m (0.148393)\n",
            "2. nr.employed (0.113660)\n",
            "3. poutcome_nonexistent (0.076603)\n",
            "4. emp.var.rate (0.065022)\n",
            "5. pdays (0.061397)\n",
            "6. age (0.060275)\n",
            "7. cons.conf.idx (0.052059)\n",
            "8. cons.price.idx (0.048685)\n",
            "9. previous (0.029007)\n",
            "10. campaign (0.026818)\n",
            "11. day_of_week_wed (0.016507)\n",
            "12. month_jun (0.013838)\n",
            "13. contact_cellular (0.013198)\n",
            "14. month_nov (0.012439)\n",
            "15. poutcome_failure (0.012053)\n",
            "16. loan_yes (0.011745)\n",
            "17. month_mar (0.011076)\n",
            "18. day_of_week_fri (0.010003)\n",
            "19. education_professional.course (0.008650)\n",
            "20. housing_unknown (0.008404)\n",
            "21. default_yes (0.008335)\n",
            "22. day_of_week_mon (0.008108)\n",
            "23. marital_married (0.008034)\n",
            "24. contact_telephone (0.007734)\n",
            "25. month_sep (0.007704)\n",
            "26. housing_yes (0.007311)\n",
            "27. day_of_week_thu (0.007209)\n",
            "28. education_basic.9y (0.007132)\n",
            "29. day_of_week_tue (0.007122)\n",
            "30. job_admin. (0.007086)\n",
            "31. marital_divorced (0.006979)\n",
            "32. y (0.006658)\n",
            "33. loan_unknown (0.006314)\n",
            "34. job_student (0.006138)\n",
            "35. job_management (0.006136)\n",
            "36. education_unknown (0.005655)\n",
            "37. education_illiterate (0.005636)\n",
            "38. education_basic.6y (0.005475)\n",
            "39. job_services (0.005337)\n",
            "40. month_jul (0.005025)\n",
            "41. marital_unknown (0.005012)\n",
            "42. job_unknown (0.005011)\n",
            "43. job_housemaid (0.004365)\n",
            "44. default_no (0.004250)\n",
            "45. month_oct (0.004144)\n",
            "46. education_university.degree (0.003967)\n",
            "47. job_self-employed (0.003812)\n",
            "48. education_basic.4y (0.003710)\n",
            "49. job_technician (0.003344)\n",
            "50. job_retired (0.003225)\n",
            "51. month_apr (0.003192)\n",
            "52. month_may (0.003157)\n",
            "53. month_dec (0.002885)\n",
            "54. loan_no (0.002691)\n",
            "55. job_entrepreneur (0.002682)\n",
            "56. job_blue-collar (0.002257)\n",
            "57. housing_no (0.002240)\n",
            "58. job_unemployed (0.002103)\n",
            "59. month_aug (0.001891)\n",
            "60. marital_single (0.000849)\n",
            "61. education_high.school (0.000255)\n",
            "62. default_unknown (0.000000)\n"
          ],
          "name": "stdout"
        },
        {
          "output_type": "display_data",
          "data": {
            "image/png": "[encoded data removed]",
            "text/plain": [
              "<Figure size 1080x576 with 1 Axes>"
            ]
          },
          "metadata": {
            "tags": [],
            "needs_background": "light"
          }
        }
      ]
    }
  ]
}