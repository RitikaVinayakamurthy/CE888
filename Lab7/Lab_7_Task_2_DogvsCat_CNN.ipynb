{
  "nbformat": 4,
  "nbformat_minor": 0,
  "metadata": {
    "colab": {
      "name": "Lab 7 Task 2_DogvsCat_CNN.ipynb",
      "provenance": [],
      "collapsed_sections": [],
      "include_colab_link": true
    },
    "kernelspec": {
      "name": "python3",
      "display_name": "Python 3"
    },
    "accelerator": "GPU"
  },
  "cells": [
    {
      "cell_type": "markdown",
      "metadata": {
        "id": "view-in-github",
        "colab_type": "text"
      },
      "source": [
        "<a href=\"https://colab.research.google.com/github/RitikaVinayakamurthy/CE888/blob/main/Lab7/Lab_7_Task_2_DogvsCat_CNN.ipynb\" target=\"_parent\"><img src=\"https://colab.research.google.com/assets/colab-badge.svg\" alt=\"Open In Colab\"/></a>"
      ]
    },
    {
      "cell_type": "markdown",
      "metadata": {
        "id": "qTh9DiKVslsJ"
      },
      "source": [
        "## Dogs vs. Cats \n",
        "\n",
        "In this competition, you'll write an algorithm to classify whether images contain either a dog or a cat.  This is easy for humans, dogs, and cats. Your computer will find it a bit more difficult.\n",
        "\n",
        "![alt text](https://miro.medium.com/max/3000/1*bhFifratH9DjKqMBTeQG5A.gif)\n",
        "\n",
        "Ref: https://medium.com/@thegrigorian/rolling-in-the-deep-cnn-c8d3f7108c8c"
      ]
    },
    {
      "cell_type": "markdown",
      "metadata": {
        "id": "RSBI-_mSSY1g"
      },
      "source": [
        "Get your API Key from Kaggle using following steps:\n",
        "1. Login to [Kaggle](https://www.kaggle.com/) or Register if you don't have account\n",
        "2. Open Dataset (https://www.kaggle.com/c/dogs-vs-cats/rules) and accept terms and condition. \n",
        "3. On the top right corner click on your Icon and go to accounts and press a button \"Create New API Token\". It will download a JSON file containing your username and key. \n",
        "4. Now, paste both below. \n"
      ]
    },
    {
      "cell_type": "code",
      "metadata": {
        "id": "YmXSOc0tZIGA",
        "colab": {
          "base_uri": "https://localhost:8080/"
        },
        "outputId": "d399000b-e878-4f70-c879-9b38c35c40de"
      },
      "source": [
        "import os\n",
        "os.environ['KAGGLE_USERNAME'] = \"preethamt\" # username from the json file\n",
        "os.environ['KAGGLE_KEY'] = \"b7a82786f79e4f4847a067c36631d7b2\" # key from the json file\n",
        "!kaggle competitions download -c dogs-vs-cats # api copied from kaggle (https://www.kaggle.com/c/dogs-vs-cats/data)"
      ],
      "execution_count": 1,
      "outputs": [
        {
          "output_type": "stream",
          "text": [
            "Warning: Looks like you're using an outdated API Version, please consider updating (server 1.5.12 / client 1.5.4)\n",
            "Downloading train.zip to /content\n",
            " 99% 539M/543M [00:03<00:00, 171MB/s]\n",
            "100% 543M/543M [00:03<00:00, 169MB/s]\n",
            "Downloading test1.zip to /content\n",
            "100% 271M/271M [00:01<00:00, 115MB/s]\n",
            "100% 271M/271M [00:01<00:00, 153MB/s]\n",
            "Downloading sampleSubmission.csv to /content\n",
            "  0% 0.00/86.8k [00:00<?, ?B/s]\n",
            "100% 86.8k/86.8k [00:00<00:00, 91.8MB/s]\n"
          ],
          "name": "stdout"
        }
      ]
    },
    {
      "cell_type": "code",
      "metadata": {
        "id": "PiwIL8d1n7eS",
        "colab": {
          "base_uri": "https://localhost:8080/"
        },
        "outputId": "1fe81dd1-9ba0-48ec-ad12-64bbb86ad67a"
      },
      "source": [
        "# Unzip training data\n",
        "from zipfile import ZipFile\n",
        "file_name = \"/content/train.zip\"\n",
        "with ZipFile(file_name, 'r') as zip:\n",
        "  zip.extractall()\n",
        "  print('done')"
      ],
      "execution_count": 2,
      "outputs": [
        {
          "output_type": "stream",
          "text": [
            "done\n"
          ],
          "name": "stdout"
        }
      ]
    },
    {
      "cell_type": "code",
      "metadata": {
        "id": "sa2Bj5i7pPKV",
        "colab": {
          "base_uri": "https://localhost:8080/"
        },
        "outputId": "0e0c7f74-e959-4df5-a45d-c45c9f079ce6"
      },
      "source": [
        "# Get all the paths\n",
        "data_dir_list = os.listdir('/content/train')\n",
        "#print(data_dir_list)\n",
        "path, dirs, files = next(os.walk(\"/content/train\"))\n",
        "file_count = len(files)\n",
        "print(file_count)"
      ],
      "execution_count": 3,
      "outputs": [
        {
          "output_type": "stream",
          "text": [
            "25000\n"
          ],
          "name": "stdout"
        }
      ]
    },
    {
      "cell_type": "code",
      "metadata": {
        "id": "0ERlHkfHqpK8"
      },
      "source": [
        "# Make new base directory\n",
        "original_dataset_dir = '/content/train'\n",
        "base_dir = '/content/cats_and_dogs_small'\n",
        "os.mkdir(base_dir)"
      ],
      "execution_count": 4,
      "outputs": []
    },
    {
      "cell_type": "code",
      "metadata": {
        "id": "AANB1UJ6rQhM"
      },
      "source": [
        "train_dir = os.path.join(base_dir, 'train')\n",
        "os.mkdir(train_dir)\n",
        "\n",
        "validation_dir = os.path.join(base_dir, 'validation')\n",
        "os.mkdir(validation_dir)\n",
        "\n",
        "test_dir = os.path.join(base_dir, 'test')\n",
        "os.mkdir(test_dir)\n",
        "\n",
        "train_cats_dir = os.path.join(train_dir, 'cats')\n",
        "os.mkdir(train_cats_dir)\n",
        "\n",
        "train_dogs_dir = os.path.join(train_dir, 'dogs')\n",
        "os.mkdir(train_dogs_dir)\n",
        "\n",
        "validation_cats_dir = os.path.join(validation_dir, 'cats')\n",
        "os.mkdir(validation_cats_dir)\n",
        "\n",
        "validation_dogs_dir = os.path.join(validation_dir, 'dogs')\n",
        "os.mkdir(validation_dogs_dir)\n",
        "\n",
        "test_cats_dir = os.path.join(test_dir, 'cats')\n",
        "os.mkdir(test_cats_dir)\n",
        "\n",
        "test_dogs_dir = os.path.join(test_dir, 'dogs')\n",
        "os.mkdir(test_dogs_dir)"
      ],
      "execution_count": 5,
      "outputs": []
    },
    {
      "cell_type": "code",
      "metadata": {
        "id": "ULRgL9s9rV8T"
      },
      "source": [
        "import shutil\n",
        "fnames = ['cat.{}.jpg'.format(i) for i in range(1000)]\n",
        "for fname in fnames:\n",
        "    src = os.path.join(original_dataset_dir, fname)\n",
        "    dst = os.path.join(train_cats_dir, fname)\n",
        "    #print(src,dst)\n",
        "    shutil.copyfile(src, dst)\n",
        "    \n",
        "fnames = ['cat.{}.jpg'.format(i) for i in range(1000, 1500)]\n",
        "for fname in fnames:\n",
        "    src = os.path.join(original_dataset_dir, fname)\n",
        "    dst = os.path.join(validation_cats_dir, fname)\n",
        "    shutil.copyfile(src, dst)\n",
        "\n",
        "fnames = ['cat.{}.jpg'.format(i) for i in range(1500, 2000)]\n",
        "for fname in fnames:\n",
        "    src = os.path.join(original_dataset_dir, fname)\n",
        "    dst = os.path.join(test_cats_dir, fname)\n",
        "    shutil.copyfile(src, dst)\n",
        "    \n",
        "fnames = ['dog.{}.jpg'.format(i) for i in range(1000)]\n",
        "for fname in fnames:\n",
        "    src = os.path.join(original_dataset_dir, fname)\n",
        "    dst = os.path.join(train_dogs_dir, fname)\n",
        "    shutil.copyfile(src, dst)\n",
        "\n",
        "fnames = ['dog.{}.jpg'.format(i) for i in range(1000, 1500)]\n",
        "for fname in fnames:\n",
        "    src = os.path.join(original_dataset_dir, fname)\n",
        "    dst = os.path.join(validation_dogs_dir, fname)\n",
        "    shutil.copyfile(src, dst)\n",
        "\n",
        "fnames = ['dog.{}.jpg'.format(i) for i in range(1500, 2000)]\n",
        "for fname in fnames:\n",
        "    src = os.path.join(original_dataset_dir, fname)\n",
        "    dst = os.path.join(test_dogs_dir, fname)\n",
        "    shutil.copyfile(src, dst)"
      ],
      "execution_count": 6,
      "outputs": []
    },
    {
      "cell_type": "code",
      "metadata": {
        "id": "ul3XAbIyr7vC",
        "colab": {
          "base_uri": "https://localhost:8080/"
        },
        "outputId": "fda98be4-ab0a-4d6e-e5da-cdceb85fd032"
      },
      "source": [
        "print('total training cat images:', len(os.listdir(train_cats_dir)))\n",
        "print('total training dog images:', len(os.listdir(train_dogs_dir)))\n",
        "print('total validation cat images:', len(os.listdir(validation_cats_dir)))\n",
        "\n",
        "print('total validation dog images:', len(os.listdir(validation_dogs_dir)))\n",
        "print('total test cat images:', len(os.listdir(test_cats_dir)))\n",
        "print('total test dog images:', len(os.listdir(test_dogs_dir)))"
      ],
      "execution_count": 7,
      "outputs": [
        {
          "output_type": "stream",
          "text": [
            "total training cat images: 1000\n",
            "total training dog images: 1000\n",
            "total validation cat images: 500\n",
            "total validation dog images: 500\n",
            "total test cat images: 500\n",
            "total test dog images: 500\n"
          ],
          "name": "stdout"
        }
      ]
    },
    {
      "cell_type": "code",
      "metadata": {
        "id": "o9yTA21_r-ma",
        "colab": {
          "base_uri": "https://localhost:8080/"
        },
        "outputId": "0ca0446c-d0ce-4b33-ac01-1cc670276b4d"
      },
      "source": [
        "from keras import layers\n",
        "from keras import models\n",
        "\n",
        "model = models.Sequential()\n",
        "model.add(layers.Conv2D(32, (3, 3), activation='relu', input_shape=(150, 150, 3)))\n",
        "model.add(layers.MaxPooling2D((2, 2)))\n",
        "model.add(layers.Conv2D(64, (3, 3), activation='relu'))\n",
        "model.add(layers.MaxPooling2D((2, 2)))\n",
        "model.add(layers.Conv2D(128, (3, 3), activation='relu'))\n",
        "model.add(layers.MaxPooling2D((2, 2)))\n",
        "model.add(layers.Conv2D(128, (3, 3), activation='relu'))\n",
        "model.add(layers.MaxPooling2D((2, 2)))\n",
        "model.add(layers.Flatten())\n",
        "model.add(layers.Dense(512, activation='relu'))\n",
        "model.add(layers.Dense(1, activation='sigmoid'))\n",
        "model.summary()"
      ],
      "execution_count": 8,
      "outputs": [
        {
          "output_type": "stream",
          "text": [
            "Model: \"sequential\"\n",
            "_________________________________________________________________\n",
            "Layer (type)                 Output Shape              Param #   \n",
            "=================================================================\n",
            "conv2d (Conv2D)              (None, 148, 148, 32)      896       \n",
            "_________________________________________________________________\n",
            "max_pooling2d (MaxPooling2D) (None, 74, 74, 32)        0         \n",
            "_________________________________________________________________\n",
            "conv2d_1 (Conv2D)            (None, 72, 72, 64)        18496     \n",
            "_________________________________________________________________\n",
            "max_pooling2d_1 (MaxPooling2 (None, 36, 36, 64)        0         \n",
            "_________________________________________________________________\n",
            "conv2d_2 (Conv2D)            (None, 34, 34, 128)       73856     \n",
            "_________________________________________________________________\n",
            "max_pooling2d_2 (MaxPooling2 (None, 17, 17, 128)       0         \n",
            "_________________________________________________________________\n",
            "conv2d_3 (Conv2D)            (None, 15, 15, 128)       147584    \n",
            "_________________________________________________________________\n",
            "max_pooling2d_3 (MaxPooling2 (None, 7, 7, 128)         0         \n",
            "_________________________________________________________________\n",
            "flatten (Flatten)            (None, 6272)              0         \n",
            "_________________________________________________________________\n",
            "dense (Dense)                (None, 512)               3211776   \n",
            "_________________________________________________________________\n",
            "dense_1 (Dense)              (None, 1)                 513       \n",
            "=================================================================\n",
            "Total params: 3,453,121\n",
            "Trainable params: 3,453,121\n",
            "Non-trainable params: 0\n",
            "_________________________________________________________________\n"
          ],
          "name": "stdout"
        }
      ]
    },
    {
      "cell_type": "code",
      "metadata": {
        "id": "2mG8wekxsBVS"
      },
      "source": [
        "from keras import optimizers\n",
        "model.compile(loss='binary_crossentropy', \n",
        "              optimizer=optimizers.RMSprop(lr=1e-4),\n",
        "              metrics=['acc'])"
      ],
      "execution_count": 9,
      "outputs": []
    },
    {
      "cell_type": "markdown",
      "metadata": {
        "id": "7zS4Klm8qWp6"
      },
      "source": [
        "## Using ImageDataGenerator to read images from directories\n",
        "As you know by now, data should be formatted into appropriately preprocessed floatingpoint tensors before being fed into the network. Currently, the data sits on a drive as JPEG files, so the steps for getting it into the network are roughly as follows:\n",
        "\n",
        "* Read the picture files.\n",
        "* Decode the JPEG content to RGB grids of pixels.\n",
        "* Convert these into floating-point tensors.\n",
        "* Rescale the pixel values (between 0 and 255) to the [0, 1] interval (as you know, neural networks prefer to deal with small input values).\n",
        "\n",
        "It may seem a bit daunting, but fortunately Keras has utilities to take care of these steps automatically. Keras has a module with image-processing helper tools, located at keras.preprocessing.image. In particular, it contains the class ImageDataGenerator,which lets you quickly set up Python generators that can automatically turn image files on disk into batches of preprocessed tensors."
      ]
    },
    {
      "cell_type": "code",
      "metadata": {
        "id": "XJ7XU7t9sEh6",
        "colab": {
          "base_uri": "https://localhost:8080/"
        },
        "outputId": "03a9aaa9-2146-479b-f21b-5c3916226cca"
      },
      "source": [
        "from keras.preprocessing.image import ImageDataGenerator\n",
        "\n",
        "train_datagen = ImageDataGenerator(rescale=1./255)\n",
        "test_datagen = ImageDataGenerator(rescale=1./255)\n",
        "\n",
        "train_generator = train_datagen.flow_from_directory(train_dir,\n",
        "                                                    target_size=(150, 150), \n",
        "                                                    batch_size=20,\n",
        "                                                    class_mode='binary')\n",
        "\n",
        "validation_generator = test_datagen.flow_from_directory(validation_dir,\n",
        "                                                        target_size=(150, 150),\n",
        "                                                        batch_size=20,\n",
        "                                                        class_mode='binary')"
      ],
      "execution_count": 10,
      "outputs": [
        {
          "output_type": "stream",
          "text": [
            "Found 2000 images belonging to 2 classes.\n",
            "Found 1000 images belonging to 2 classes.\n"
          ],
          "name": "stdout"
        }
      ]
    },
    {
      "cell_type": "markdown",
      "metadata": {
        "id": "SEgLywySqm4u"
      },
      "source": [
        "Let’s fit the model to the data using the generator. You do so using the fit_generator method, the equivalent of fit for data generators like this one. It expects as its first argument a Python generator that will yield batches of inputs and targets indefinitely,like this one does. Because the data is being generated endlessly, the Keras model needs to know how many samples to draw from the generator before declaring anepoch over. This is the role of the `steps_per_epoch` argument: after having drawn `steps_per_epoch` batches from the generator—that is, after having run for `steps_per_epoch` gradient descent steps—the fitting process will go to the next epoch. In this case, batches are 20 samples, so it will take 100 batches until you see your target of 2,000 samples.\n",
        "\n",
        "When using fit_generator, you can pass a validation_data argument, much as with the fit method. It’s important to note that this argument is allowed to be a data generator, but it could also be a tuple of Numpy arrays. If you pass a generator as validation_data, then this generator is expected to yield batches of validation data endlessly; thus you should also specify the validation_steps argument, which tells the process how many batches to draw from the validation generator for evaluation."
      ]
    },
    {
      "cell_type": "code",
      "metadata": {
        "id": "yMyfPphJsJG6",
        "colab": {
          "base_uri": "https://localhost:8080/"
        },
        "outputId": "f379f001-af0f-42ac-a5ec-65d1e1547359"
      },
      "source": [
        "history = model.fit_generator(train_generator,\n",
        "                              steps_per_epoch=100,\n",
        "                              epochs=30,\n",
        "                              validation_data=validation_generator,\n",
        "                              validation_steps=10)"
      ],
      "execution_count": 11,
      "outputs": [
        {
          "output_type": "stream",
          "text": [
            "/usr/local/lib/python3.7/dist-packages/tensorflow/python/keras/engine/training.py:1844: UserWarning: `Model.fit_generator` is deprecated and will be removed in a future version. Please use `Model.fit`, which supports generators.\n",
            "  warnings.warn('`Model.fit_generator` is deprecated and '\n"
          ],
          "name": "stderr"
        },
        {
          "output_type": "stream",
          "text": [
            "Epoch 1/30\n",
            "100/100 [==============================] - 25s 78ms/step - loss: 0.6981 - acc: 0.5034 - val_loss: 0.6834 - val_acc: 0.5550\n",
            "Epoch 2/30\n",
            "100/100 [==============================] - 7s 74ms/step - loss: 0.6665 - acc: 0.5953 - val_loss: 0.6711 - val_acc: 0.6000\n",
            "Epoch 3/30\n",
            "100/100 [==============================] - 7s 73ms/step - loss: 0.6213 - acc: 0.6527 - val_loss: 0.7078 - val_acc: 0.5850\n",
            "Epoch 4/30\n",
            "100/100 [==============================] - 7s 73ms/step - loss: 0.5764 - acc: 0.6880 - val_loss: 0.5956 - val_acc: 0.6700\n",
            "Epoch 5/30\n",
            "100/100 [==============================] - 7s 75ms/step - loss: 0.5321 - acc: 0.7421 - val_loss: 0.6209 - val_acc: 0.6450\n",
            "Epoch 6/30\n",
            "100/100 [==============================] - 7s 73ms/step - loss: 0.5089 - acc: 0.7520 - val_loss: 0.7201 - val_acc: 0.6100\n",
            "Epoch 7/30\n",
            "100/100 [==============================] - 7s 74ms/step - loss: 0.4712 - acc: 0.7807 - val_loss: 0.5033 - val_acc: 0.7600\n",
            "Epoch 8/30\n",
            "100/100 [==============================] - 7s 72ms/step - loss: 0.4526 - acc: 0.7762 - val_loss: 0.5626 - val_acc: 0.7000\n",
            "Epoch 9/30\n",
            "100/100 [==============================] - 8s 75ms/step - loss: 0.4105 - acc: 0.8195 - val_loss: 0.5410 - val_acc: 0.7200\n",
            "Epoch 10/30\n",
            "100/100 [==============================] - 7s 73ms/step - loss: 0.3880 - acc: 0.8317 - val_loss: 0.6603 - val_acc: 0.6600\n",
            "Epoch 11/30\n",
            "100/100 [==============================] - 7s 75ms/step - loss: 0.3737 - acc: 0.8413 - val_loss: 0.5310 - val_acc: 0.7550\n",
            "Epoch 12/30\n",
            "100/100 [==============================] - 7s 72ms/step - loss: 0.3429 - acc: 0.8526 - val_loss: 0.5895 - val_acc: 0.7650\n",
            "Epoch 13/30\n",
            "100/100 [==============================] - 7s 74ms/step - loss: 0.3094 - acc: 0.8830 - val_loss: 0.5121 - val_acc: 0.7400\n",
            "Epoch 14/30\n",
            "100/100 [==============================] - 7s 73ms/step - loss: 0.2948 - acc: 0.8749 - val_loss: 0.5894 - val_acc: 0.7200\n",
            "Epoch 15/30\n",
            "100/100 [==============================] - 7s 74ms/step - loss: 0.2689 - acc: 0.8932 - val_loss: 0.6454 - val_acc: 0.7300\n",
            "Epoch 16/30\n",
            "100/100 [==============================] - 7s 74ms/step - loss: 0.2781 - acc: 0.8838 - val_loss: 0.5442 - val_acc: 0.7600\n",
            "Epoch 17/30\n",
            "100/100 [==============================] - 7s 72ms/step - loss: 0.2278 - acc: 0.9138 - val_loss: 0.6639 - val_acc: 0.7000\n",
            "Epoch 18/30\n",
            "100/100 [==============================] - 7s 74ms/step - loss: 0.2122 - acc: 0.9253 - val_loss: 0.7059 - val_acc: 0.7100\n",
            "Epoch 19/30\n",
            "100/100 [==============================] - 7s 72ms/step - loss: 0.1966 - acc: 0.9276 - val_loss: 0.7044 - val_acc: 0.7150\n",
            "Epoch 20/30\n",
            "100/100 [==============================] - 7s 75ms/step - loss: 0.1951 - acc: 0.9304 - val_loss: 0.6128 - val_acc: 0.7900\n",
            "Epoch 21/30\n",
            "100/100 [==============================] - 7s 72ms/step - loss: 0.1496 - acc: 0.9498 - val_loss: 0.8555 - val_acc: 0.7000\n",
            "Epoch 22/30\n",
            "100/100 [==============================] - 7s 75ms/step - loss: 0.1483 - acc: 0.9491 - val_loss: 0.7662 - val_acc: 0.7450\n",
            "Epoch 23/30\n",
            "100/100 [==============================] - 7s 73ms/step - loss: 0.1184 - acc: 0.9579 - val_loss: 0.6912 - val_acc: 0.7500\n",
            "Epoch 24/30\n",
            "100/100 [==============================] - 7s 75ms/step - loss: 0.1062 - acc: 0.9714 - val_loss: 0.9634 - val_acc: 0.7000\n",
            "Epoch 25/30\n",
            "100/100 [==============================] - 7s 73ms/step - loss: 0.0871 - acc: 0.9714 - val_loss: 0.7294 - val_acc: 0.7500\n",
            "Epoch 26/30\n",
            "100/100 [==============================] - 7s 74ms/step - loss: 0.0874 - acc: 0.9716 - val_loss: 0.9867 - val_acc: 0.6850\n",
            "Epoch 27/30\n",
            "100/100 [==============================] - 7s 74ms/step - loss: 0.0628 - acc: 0.9837 - val_loss: 0.8574 - val_acc: 0.7700\n",
            "Epoch 28/30\n",
            "100/100 [==============================] - 7s 73ms/step - loss: 0.0604 - acc: 0.9833 - val_loss: 1.0731 - val_acc: 0.7550\n",
            "Epoch 29/30\n",
            "100/100 [==============================] - 7s 73ms/step - loss: 0.0518 - acc: 0.9801 - val_loss: 1.1178 - val_acc: 0.7050\n",
            "Epoch 30/30\n",
            "100/100 [==============================] - 7s 72ms/step - loss: 0.0442 - acc: 0.9888 - val_loss: 0.7813 - val_acc: 0.7500\n"
          ],
          "name": "stdout"
        }
      ]
    },
    {
      "cell_type": "code",
      "metadata": {
        "id": "MZaZ2HWZsNUi",
        "colab": {
          "base_uri": "https://localhost:8080/",
          "height": 545
        },
        "outputId": "a6e7b647-fc67-43a1-d43c-5bced2d202a6"
      },
      "source": [
        "model.save('cats_and_dogs_small_1.h5')\n",
        "\n",
        "import matplotlib.pyplot as plt\n",
        "\n",
        "acc = history.history['acc']\n",
        "val_acc = history.history['val_acc']\n",
        "loss = history.history['loss']\n",
        "val_loss = history.history['val_loss']\n",
        "\n",
        "epochs = range(1, len(acc) + 1)\n",
        "\n",
        "plt.plot(epochs, acc, 'bo', label='Training acc')\n",
        "plt.plot(epochs, val_acc, 'b', label='Validation acc')\n",
        "plt.title('Training and validation accuracy')\n",
        "plt.legend()\n",
        "\n",
        "plt.figure()\n",
        "\n",
        "plt.plot(epochs, loss, 'bo', label='Training loss')\n",
        "plt.plot(epochs, val_loss, 'b', label='Validation loss')\n",
        "plt.title('Training and validation loss')\n",
        "plt.legend()\n",
        "\n",
        "plt.show()"
      ],
      "execution_count": 12,
      "outputs": [
        {
          "output_type": "display_data",
          "data": {
            "image/png": "[encoded data removed]",
            "text/plain": [
              "<Figure size 432x288 with 1 Axes>"
            ]
          },
          "metadata": {
            "tags": [],
            "needs_background": "light"
          }
        },
        {
          "output_type": "display_data",
          "data": {
            "image/png": "[encoded data removed]",
            "text/plain": [
              "<Figure size 432x288 with 1 Axes>"
            ]
          },
          "metadata": {
            "tags": [],
            "needs_background": "light"
          }
        }
      ]
    },
    {
      "cell_type": "markdown",
      "metadata": {
        "id": "XKZmXmBcq_8-"
      },
      "source": [
        "## Convolutional Networks with Dropout\n",
        "\n",
        "![alt text](https://camo.githubusercontent.com/ee6fa1073247cd2c3d241300caf110d7a7541bc5/68747470733a2f2f63646e2d696d616765732d312e6d656469756d2e636f6d2f6d61782f3830302f312a4972644a355067684439596f4f7956415137334d4a772e676966)\n",
        "\n",
        "Ref: https://github.com/mneha4/Training-Neural-Nets---Guidelines"
      ]
    },
    {
      "cell_type": "code",
      "metadata": {
        "id": "wu3cqeYQrDeN"
      },
      "source": [
        "model = models.Sequential()\n",
        "model.add(layers.Conv2D(32, (3, 3), activation='relu',\n",
        "input_shape=(150, 150, 3)))\n",
        "model.add(layers.MaxPooling2D((2, 2)))\n",
        "model.add(layers.Conv2D(64, (3, 3), activation='relu'))\n",
        "model.add(layers.MaxPooling2D((2, 2)))\n",
        "model.add(layers.Conv2D(128, (3, 3), activation='relu'))\n",
        "model.add(layers.MaxPooling2D((2, 2)))\n",
        "model.add(layers.Conv2D(128, (3, 3), activation='relu'))\n",
        "model.add(layers.MaxPooling2D((2, 2)))\n",
        "model.add(layers.Flatten())\n",
        "model.add(layers.Dropout(0.5))\n",
        "model.add(layers.Dense(512, activation='relu'))\n",
        "model.add(layers.Dense(1, activation='sigmoid'))\n",
        "\n",
        "model.compile(loss='binary_crossentropy',\n",
        "              optimizer=optimizers.RMSprop(lr=1e-4),\n",
        "              metrics=['acc'])"
      ],
      "execution_count": 13,
      "outputs": []
    },
    {
      "cell_type": "code",
      "metadata": {
        "id": "QSeLpvY0rH7F",
        "colab": {
          "base_uri": "https://localhost:8080/"
        },
        "outputId": "f0f87e4f-3481-4538-99f1-6348627cdad7"
      },
      "source": [
        "train_datagen = ImageDataGenerator(rescale=1./255,\n",
        "                                   rotation_range=40,\n",
        "                                   width_shift_range=0.2,\n",
        "                                   height_shift_range=0.2,\n",
        "                                   shear_range=0.2,\n",
        "                                   zoom_range=0.2,\n",
        "                                   horizontal_flip=True)\n",
        "\n",
        "test_datagen = ImageDataGenerator(rescale=1./255)\n",
        "\n",
        "train_generator = train_datagen.flow_from_directory(train_dir,\n",
        "                                                    target_size=(150, 150),\n",
        "                                                    batch_size=20,\n",
        "                                                    class_mode='binary')\n",
        "\n",
        "validation_generator = test_datagen.flow_from_directory(validation_dir,\n",
        "                                                        target_size=(150, 150),\n",
        "                                                        batch_size=20,\n",
        "                                                        class_mode='binary')\n",
        "\n",
        "\n",
        "\n",
        "history = model.fit_generator(train_generator,\n",
        "                              steps_per_epoch=100,\n",
        "                              epochs=20,\n",
        "                              validation_data=validation_generator,\n",
        "                              validation_steps=50)"
      ],
      "execution_count": 14,
      "outputs": [
        {
          "output_type": "stream",
          "text": [
            "Found 2000 images belonging to 2 classes.\n",
            "Found 1000 images belonging to 2 classes.\n"
          ],
          "name": "stdout"
        },
        {
          "output_type": "stream",
          "text": [
            "/usr/local/lib/python3.7/dist-packages/tensorflow/python/keras/engine/training.py:1844: UserWarning: `Model.fit_generator` is deprecated and will be removed in a future version. Please use `Model.fit`, which supports generators.\n",
            "  warnings.warn('`Model.fit_generator` is deprecated and '\n"
          ],
          "name": "stderr"
        },
        {
          "output_type": "stream",
          "text": [
            "Epoch 1/20\n",
            "100/100 [==============================] - 21s 196ms/step - loss: 0.6955 - acc: 0.5018 - val_loss: 0.6836 - val_acc: 0.5730\n",
            "Epoch 2/20\n",
            "100/100 [==============================] - 19s 194ms/step - loss: 0.6885 - acc: 0.5028 - val_loss: 0.6617 - val_acc: 0.5860\n",
            "Epoch 3/20\n",
            "100/100 [==============================] - 19s 194ms/step - loss: 0.6676 - acc: 0.5746 - val_loss: 0.6543 - val_acc: 0.5890\n",
            "Epoch 4/20\n",
            "100/100 [==============================] - 19s 193ms/step - loss: 0.6648 - acc: 0.5807 - val_loss: 0.6515 - val_acc: 0.5870\n",
            "Epoch 5/20\n",
            "100/100 [==============================] - 19s 195ms/step - loss: 0.6577 - acc: 0.5913 - val_loss: 0.6398 - val_acc: 0.6110\n",
            "Epoch 6/20\n",
            "100/100 [==============================] - 19s 194ms/step - loss: 0.6447 - acc: 0.6008 - val_loss: 0.6099 - val_acc: 0.6660\n",
            "Epoch 7/20\n",
            "100/100 [==============================] - 19s 194ms/step - loss: 0.6211 - acc: 0.6499 - val_loss: 0.5886 - val_acc: 0.6800\n",
            "Epoch 8/20\n",
            "100/100 [==============================] - 19s 194ms/step - loss: 0.6018 - acc: 0.6877 - val_loss: 0.5907 - val_acc: 0.6600\n",
            "Epoch 9/20\n",
            "100/100 [==============================] - 19s 195ms/step - loss: 0.5901 - acc: 0.6913 - val_loss: 0.5955 - val_acc: 0.6700\n",
            "Epoch 10/20\n",
            "100/100 [==============================] - 19s 194ms/step - loss: 0.5916 - acc: 0.6868 - val_loss: 0.5699 - val_acc: 0.6770\n",
            "Epoch 11/20\n",
            "100/100 [==============================] - 19s 194ms/step - loss: 0.5864 - acc: 0.6913 - val_loss: 0.5637 - val_acc: 0.6890\n",
            "Epoch 12/20\n",
            "100/100 [==============================] - 19s 193ms/step - loss: 0.5748 - acc: 0.6913 - val_loss: 0.5564 - val_acc: 0.7040\n",
            "Epoch 13/20\n",
            "100/100 [==============================] - 19s 194ms/step - loss: 0.5778 - acc: 0.6927 - val_loss: 0.5805 - val_acc: 0.6810\n",
            "Epoch 14/20\n",
            "100/100 [==============================] - 20s 195ms/step - loss: 0.5893 - acc: 0.6845 - val_loss: 0.6801 - val_acc: 0.6440\n",
            "Epoch 15/20\n",
            "100/100 [==============================] - 19s 194ms/step - loss: 0.5785 - acc: 0.6688 - val_loss: 0.5274 - val_acc: 0.7270\n",
            "Epoch 16/20\n",
            "100/100 [==============================] - 19s 195ms/step - loss: 0.5659 - acc: 0.7054 - val_loss: 0.5761 - val_acc: 0.6830\n",
            "Epoch 17/20\n",
            "100/100 [==============================] - 19s 195ms/step - loss: 0.5501 - acc: 0.7205 - val_loss: 0.5465 - val_acc: 0.7100\n",
            "Epoch 18/20\n",
            "100/100 [==============================] - 20s 197ms/step - loss: 0.5555 - acc: 0.7182 - val_loss: 0.5779 - val_acc: 0.6960\n",
            "Epoch 19/20\n",
            "100/100 [==============================] - 20s 196ms/step - loss: 0.5464 - acc: 0.7226 - val_loss: 0.6075 - val_acc: 0.6900\n",
            "Epoch 20/20\n",
            "100/100 [==============================] - 19s 195ms/step - loss: 0.5534 - acc: 0.7152 - val_loss: 0.5476 - val_acc: 0.7110\n"
          ],
          "name": "stdout"
        }
      ]
    },
    {
      "cell_type": "markdown",
      "metadata": {
        "id": "BRdU5yrkUF_b"
      },
      "source": [
        "# Task 2:\n",
        "\n",
        "We have used Dropout to enhance the performance of the CNN model. Can you please use whatever you like to further enhance the performance from `val_acc: 0.7506`? "
      ]
    },
    {
      "cell_type": "code",
      "metadata": {
        "id": "_ZqLfrURTG8L"
      },
      "source": [
        "#Model using Dropout\n",
        "Dropoutmodel = models.Sequential()\n",
        "Dropoutmodel.add(layers.Conv2D(32, (3, 3), activation='relu',\n",
        "input_shape=(150, 150, 3)))\n",
        "Dropoutmodel.add(layers.MaxPooling2D((2, 2)))\n",
        "Dropoutmodel.add(layers.Conv2D(64, (3, 3), activation='relu'))\n",
        "Dropoutmodel.add(layers.MaxPooling2D((2, 2)))\n",
        "Dropoutmodel.add(layers.Conv2D(128, (3, 3), activation='relu'))\n",
        "Dropoutmodel.add(layers.MaxPooling2D((2, 2)))\n",
        "#Dropoutmodel.add(layers.Conv2D(128, (3, 3), activation='relu'))\n",
        "#Dropoutmodel.add(layers.MaxPooling2D((2, 2)))\n",
        "Dropoutmodel.add(layers.Flatten())\n",
        "Dropoutmodel.add(layers.Dropout(0.5))\n",
        "#Dropoutmodel.add(layers.Dropout(0.5))\n",
        "Dropoutmodel.add(layers.Dense(512, activation='relu'))\n",
        "Dropoutmodel.add(layers.Dense(1, activation='sigmoid'))\n",
        "\n",
        "\n",
        "Dropoutmodel.compile(loss='binary_crossentropy',\n",
        "              optimizer='adam',\n",
        "              metrics=['acc'])"
      ],
      "execution_count": 15,
      "outputs": []
    },
    {
      "cell_type": "code",
      "metadata": {
        "colab": {
          "base_uri": "https://localhost:8080/"
        },
        "id": "DQfksOFxTdPH",
        "outputId": "cb39a7ed-d928-4b91-e22e-c5888ff8c85f"
      },
      "source": [
        "\n",
        "history = Dropoutmodel.fit_generator(train_generator,\n",
        "                              steps_per_epoch=100,\n",
        "                              epochs=25,\n",
        "                              validation_data=validation_generator,\n",
        "                              validation_steps=50)"
      ],
      "execution_count": 16,
      "outputs": [
        {
          "output_type": "stream",
          "text": [
            "/usr/local/lib/python3.7/dist-packages/tensorflow/python/keras/engine/training.py:1844: UserWarning: `Model.fit_generator` is deprecated and will be removed in a future version. Please use `Model.fit`, which supports generators.\n",
            "  warnings.warn('`Model.fit_generator` is deprecated and '\n"
          ],
          "name": "stderr"
        },
        {
          "output_type": "stream",
          "text": [
            "Epoch 1/25\n",
            "100/100 [==============================] - 20s 196ms/step - loss: 0.8806 - acc: 0.4836 - val_loss: 0.6893 - val_acc: 0.5190\n",
            "Epoch 2/25\n",
            "100/100 [==============================] - 20s 196ms/step - loss: 0.6913 - acc: 0.5356 - val_loss: 0.6917 - val_acc: 0.5000\n",
            "Epoch 3/25\n",
            "100/100 [==============================] - 19s 195ms/step - loss: 0.6932 - acc: 0.4973 - val_loss: 0.7244 - val_acc: 0.5000\n",
            "Epoch 4/25\n",
            "100/100 [==============================] - 19s 192ms/step - loss: 0.6955 - acc: 0.5158 - val_loss: 0.6930 - val_acc: 0.5020\n",
            "Epoch 5/25\n",
            "100/100 [==============================] - 19s 192ms/step - loss: 0.6949 - acc: 0.5139 - val_loss: 0.6845 - val_acc: 0.4990\n",
            "Epoch 6/25\n",
            "100/100 [==============================] - 19s 193ms/step - loss: 0.6916 - acc: 0.5220 - val_loss: 0.6864 - val_acc: 0.5770\n",
            "Epoch 7/25\n",
            "100/100 [==============================] - 19s 193ms/step - loss: 0.6940 - acc: 0.5423 - val_loss: 0.6783 - val_acc: 0.5670\n",
            "Epoch 8/25\n",
            "100/100 [==============================] - 19s 193ms/step - loss: 0.6830 - acc: 0.5671 - val_loss: 0.6749 - val_acc: 0.6040\n",
            "Epoch 9/25\n",
            "100/100 [==============================] - 19s 193ms/step - loss: 0.6839 - acc: 0.5662 - val_loss: 0.6673 - val_acc: 0.6100\n",
            "Epoch 10/25\n",
            "100/100 [==============================] - 19s 194ms/step - loss: 0.6705 - acc: 0.6028 - val_loss: 0.6885 - val_acc: 0.5300\n",
            "Epoch 11/25\n",
            "100/100 [==============================] - 19s 194ms/step - loss: 0.6694 - acc: 0.5798 - val_loss: 0.6554 - val_acc: 0.6100\n",
            "Epoch 12/25\n",
            "100/100 [==============================] - 19s 193ms/step - loss: 0.6402 - acc: 0.6376 - val_loss: 0.6978 - val_acc: 0.5810\n",
            "Epoch 13/25\n",
            "100/100 [==============================] - 19s 193ms/step - loss: 0.6234 - acc: 0.6500 - val_loss: 0.6052 - val_acc: 0.6570\n",
            "Epoch 14/25\n",
            "100/100 [==============================] - 20s 199ms/step - loss: 0.6470 - acc: 0.6460 - val_loss: 0.5933 - val_acc: 0.6830\n",
            "Epoch 15/25\n",
            "100/100 [==============================] - 20s 197ms/step - loss: 0.5991 - acc: 0.6683 - val_loss: 0.6591 - val_acc: 0.6220\n",
            "Epoch 16/25\n",
            "100/100 [==============================] - 20s 199ms/step - loss: 0.5635 - acc: 0.7029 - val_loss: 0.5633 - val_acc: 0.7060\n",
            "Epoch 17/25\n",
            "100/100 [==============================] - 20s 198ms/step - loss: 0.6070 - acc: 0.6762 - val_loss: 0.5673 - val_acc: 0.7190\n",
            "Epoch 18/25\n",
            "100/100 [==============================] - 19s 195ms/step - loss: 0.5904 - acc: 0.6931 - val_loss: 0.5837 - val_acc: 0.6870\n",
            "Epoch 19/25\n",
            "100/100 [==============================] - 19s 194ms/step - loss: 0.5838 - acc: 0.6993 - val_loss: 0.5707 - val_acc: 0.7110\n",
            "Epoch 20/25\n",
            "100/100 [==============================] - 20s 196ms/step - loss: 0.5804 - acc: 0.7058 - val_loss: 0.5623 - val_acc: 0.7030\n",
            "Epoch 21/25\n",
            "100/100 [==============================] - 20s 195ms/step - loss: 0.5850 - acc: 0.7060 - val_loss: 0.5769 - val_acc: 0.7110\n",
            "Epoch 22/25\n",
            "100/100 [==============================] - 19s 195ms/step - loss: 0.5819 - acc: 0.7042 - val_loss: 0.5246 - val_acc: 0.7430\n",
            "Epoch 23/25\n",
            "100/100 [==============================] - 19s 194ms/step - loss: 0.5520 - acc: 0.7335 - val_loss: 0.5052 - val_acc: 0.7470\n",
            "Epoch 24/25\n",
            "100/100 [==============================] - 19s 194ms/step - loss: 0.5518 - acc: 0.7228 - val_loss: 0.5168 - val_acc: 0.7400\n",
            "Epoch 25/25\n",
            "100/100 [==============================] - 20s 196ms/step - loss: 0.5437 - acc: 0.7230 - val_loss: 0.5213 - val_acc: 0.7560\n"
          ],
          "name": "stdout"
        }
      ]
    }
  ]
}